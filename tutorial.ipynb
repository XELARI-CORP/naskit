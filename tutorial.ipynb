{
 "cells": [
  {
   "cell_type": "code",
   "execution_count": 1,
   "id": "d4a3c5c1",
   "metadata": {},
   "outputs": [],
   "source": [
    "import naskit as nsk"
   ]
  },
  {
   "attachments": {},
   "cell_type": "markdown",
   "id": "7f1997e9",
   "metadata": {},
   "source": [
    "# Parse structure into Nucleic Acid object "
   ]
  },
  {
   "attachments": {},
   "cell_type": "markdown",
   "id": "7b69cc09",
   "metadata": {},
   "source": [
    "**NucleicAcid** is a key object of naskit package, which contains nucleic acid as a graph.</br>\n",
    "You can parse nucleic base sequence and DotBracket secondary structure using **NA** function.</br>\n",
    "**NA** will automatically validate sequence and structure. Additional parameters modify parsing process:"
   ]
  },
  {
   "cell_type": "code",
   "execution_count": 2,
   "id": "e061211e",
   "metadata": {},
   "outputs": [
    {
     "name": "stdout",
     "output_type": "stream",
     "text": [
      "Help on function NA in module naskit.parse_na:\n",
      "\n",
      "NA(a: Union[str, naskit.containers.nucleic_acid.NucleicAcid], b: Optional[str] = None, /, *, name: Optional[str] = None, meta: Optional[dict] = None, ignore_unclosed_bonds: bool = False, upper_sequence: bool = False) -> naskit.containers.nucleic_acid.NucleicAcid\n",
      "    Parse dotbracket strings into NucleicAcid.\n",
      "    \n",
      "    :param a: sequence or structure if sequence is not provided.\n",
      "    :param b: structure if sequence is provided.\n",
      "    :param name: na name.\n",
      "    :param meta: dictionary of meta information convertable to string.\n",
      "    :param ignore_unclosed_bonds: omit single unpaired parentheses without raising error. Default - False.\n",
      "    :param upper_sequence: upper sequence characters. Default - False.\n",
      "    \n",
      "    :return: NucleicAcid object.\n",
      "\n"
     ]
    }
   ],
   "source": [
    "help(nsk.NA)"
   ]
  },
  {
   "cell_type": "code",
   "execution_count": 3,
   "id": "60c84b6c",
   "metadata": {},
   "outputs": [
    {
     "name": "stdout",
     "output_type": "stream",
     "text": [
      "seq1\n",
      "AUUGCGCGUGA\n",
      "None\n"
     ]
    }
   ],
   "source": [
    "# Only sequence\n",
    "na = nsk.NA('AUUGCGCGUGA', name='seq1')\n",
    "print(na)"
   ]
  },
  {
   "cell_type": "code",
   "execution_count": 4,
   "id": "e4aaec72",
   "metadata": {},
   "outputs": [
    {
     "name": "stdout",
     "output_type": "stream",
     "text": [
      "seq2\n",
      "NNNNNNNNNNNNNNNNNNN\n",
      "...((..))..((..))..\n"
     ]
    }
   ],
   "source": [
    "# Only structure\n",
    "# NA will automaticaly fill sequence with \"N\"\n",
    "na = nsk.NA('...((..))..((..))..', name='seq2')\n",
    "print(na)"
   ]
  },
  {
   "cell_type": "code",
   "execution_count": 5,
   "id": "023dbefe",
   "metadata": {},
   "outputs": [
    {
     "name": "stdout",
     "output_type": "stream",
     "text": [
      "bpRNA_PDB_108\n",
      "GAAUUCCGGUCGACUCCGGAGAAACAAAGUCAA\n",
      "....(((((..[[[.)))))........]]]..\n",
      "{'cyclization_energy': 2.33456}\n"
     ]
    }
   ],
   "source": [
    "# Full dot bracket\n",
    "na = nsk.NA('GAAUUCCGGUCGACUCCGGAGAAACAAAGUCAA', \n",
    "            '....(((((..[[[.)))))........]]]..', \n",
    "            name='bpRNA_PDB_108', \n",
    "            meta={'cyclization_energy':2.33456} # dictionary of meta information\n",
    "           )\n",
    "print(na)\n",
    "print(na.meta)"
   ]
  },
  {
   "cell_type": "code",
   "execution_count": 7,
   "id": "d798818b",
   "metadata": {},
   "outputs": [
    {
     "data": {
      "image/svg+xml": [
       "<svg xmlns=\"http://www.w3.org/2000/svg\" xmlns:xlink=\"http://www.w3.org/1999/xlink\" xmlns:ev=\"http://www.w3.org/2001/xml-events\" version=\"1.1\" baseProfile=\"full\" height=\"253.125px\" width=\"253.125px\">\n",
       "<g stroke-width=\"1.58\" fill=\"none\">\n",
       "    <circle cx=\"157.3px\" cy=\"238.1px\" r=\"8.6px\" stroke=\"#E74646\"/>\n",
       "    <circle cx=\"176.8px\" cy=\"230.8px\" r=\"8.6px\" stroke=\"#99627A\"/>\n",
       "    <circle cx=\"194.6px\" cy=\"220.2px\" r=\"8.6px\" stroke=\"#99627A\"/>\n",
       "    <circle cx=\"210.2px\" cy=\"206.5px\" r=\"8.6px\" stroke=\"#1F8A70\"/>\n",
       "    <circle cx=\"223.1px\" cy=\"190.3px\" r=\"8.6px\" stroke=\"#1F8A70\"/>\n",
       "    <circle cx=\"232.9px\" cy=\"172.0px\" r=\"8.6px\" stroke=\"#068DA9\"/>\n",
       "    <circle cx=\"239.3px\" cy=\"152.3px\" r=\"8.6px\" stroke=\"#068DA9\"/>\n",
       "    <circle cx=\"242.1px\" cy=\"131.8px\" r=\"8.6px\" stroke=\"#E74646\"/>\n",
       "    <circle cx=\"241.2px\" cy=\"111.0px\" r=\"8.6px\" stroke=\"#E74646\"/>\n",
       "    <circle cx=\"236.6px\" cy=\"90.8px\" r=\"8.6px\" stroke=\"#1F8A70\"/>\n",
       "    <circle cx=\"228.4px\" cy=\"71.7px\" r=\"8.6px\" stroke=\"#068DA9\"/>\n",
       "    <circle cx=\"217.0px\" cy=\"54.4px\" r=\"8.6px\" stroke=\"#E74646\"/>\n",
       "    <circle cx=\"202.7px\" cy=\"39.4px\" r=\"8.6px\" stroke=\"#99627A\"/>\n",
       "    <circle cx=\"185.9px\" cy=\"27.3px\" r=\"8.6px\" stroke=\"#068DA9\"/>\n",
       "    <circle cx=\"167.2px\" cy=\"18.3px\" r=\"8.6px\" stroke=\"#1F8A70\"/>\n",
       "    <circle cx=\"147.2px\" cy=\"12.7px\" r=\"8.6px\" stroke=\"#068DA9\"/>\n",
       "    <circle cx=\"126.6px\" cy=\"10.9px\" r=\"8.6px\" stroke=\"#068DA9\"/>\n",
       "    <circle cx=\"105.9px\" cy=\"12.7px\" r=\"8.6px\" stroke=\"#E74646\"/>\n",
       "    <circle cx=\"85.9px\" cy=\"18.3px\" r=\"8.6px\" stroke=\"#E74646\"/>\n",
       "    <circle cx=\"67.2px\" cy=\"27.3px\" r=\"8.6px\" stroke=\"#99627A\"/>\n",
       "    <circle cx=\"50.5px\" cy=\"39.4px\" r=\"8.6px\" stroke=\"#E74646\"/>\n",
       "    <circle cx=\"36.1px\" cy=\"54.4px\" r=\"8.6px\" stroke=\"#99627A\"/>\n",
       "    <circle cx=\"24.7px\" cy=\"71.7px\" r=\"8.6px\" stroke=\"#99627A\"/>\n",
       "    <circle cx=\"16.5px\" cy=\"90.8px\" r=\"8.6px\" stroke=\"#99627A\"/>\n",
       "    <circle cx=\"11.9px\" cy=\"111.0px\" r=\"8.6px\" stroke=\"#068DA9\"/>\n",
       "    <circle cx=\"11.0px\" cy=\"131.8px\" r=\"8.6px\" stroke=\"#99627A\"/>\n",
       "    <circle cx=\"13.8px\" cy=\"152.3px\" r=\"8.6px\" stroke=\"#99627A\"/>\n",
       "    <circle cx=\"20.2px\" cy=\"172.0px\" r=\"8.6px\" stroke=\"#99627A\"/>\n",
       "    <circle cx=\"30.0px\" cy=\"190.3px\" r=\"8.6px\" stroke=\"#E74646\"/>\n",
       "    <circle cx=\"42.9px\" cy=\"206.5px\" r=\"8.6px\" stroke=\"#1F8A70\"/>\n",
       "    <circle cx=\"58.6px\" cy=\"220.2px\" r=\"8.6px\" stroke=\"#068DA9\"/>\n",
       "    <circle cx=\"76.4px\" cy=\"230.8px\" r=\"8.6px\" stroke=\"#99627A\"/>\n",
       "    <circle cx=\"95.8px\" cy=\"238.1px\" r=\"8.6px\" stroke=\"#99627A\"/>\n",
       "</g>\n",
       "<g font-weight=\"bold\" font-size=\"13.77px\">\n",
       "    <text x=\"152.5\" y=\"242.9\">G</text>\n",
       "    <text x=\"171.9\" y=\"235.6\">A</text>\n",
       "    <text x=\"189.7\" y=\"225.0\">A</text>\n",
       "    <text x=\"205.4\" y=\"211.3\">U</text>\n",
       "    <text x=\"218.3\" y=\"195.1\">U</text>\n",
       "    <text x=\"228.1\" y=\"176.8\">C</text>\n",
       "    <text x=\"234.5\" y=\"157.1\">C</text>\n",
       "    <text x=\"237.3\" y=\"136.6\">G</text>\n",
       "    <text x=\"236.4\" y=\"115.9\">G</text>\n",
       "    <text x=\"231.8\" y=\"95.6\">U</text>\n",
       "    <text x=\"223.6\" y=\"76.6\">C</text>\n",
       "    <text x=\"212.2\" y=\"59.3\">G</text>\n",
       "    <text x=\"197.9\" y=\"44.3\">A</text>\n",
       "    <text x=\"181.1\" y=\"32.1\">C</text>\n",
       "    <text x=\"162.4\" y=\"23.1\">U</text>\n",
       "    <text x=\"142.4\" y=\"17.6\">C</text>\n",
       "    <text x=\"121.7\" y=\"15.7\">C</text>\n",
       "    <text x=\"101.1\" y=\"17.6\">G</text>\n",
       "    <text x=\"81.1\" y=\"23.1\">G</text>\n",
       "    <text x=\"62.4\" y=\"32.1\">A</text>\n",
       "    <text x=\"45.6\" y=\"44.3\">G</text>\n",
       "    <text x=\"31.3\" y=\"59.3\">A</text>\n",
       "    <text x=\"19.9\" y=\"76.6\">A</text>\n",
       "    <text x=\"11.7\" y=\"95.6\">A</text>\n",
       "    <text x=\"7.1\" y=\"115.9\">C</text>\n",
       "    <text x=\"6.2\" y=\"136.6\">A</text>\n",
       "    <text x=\"9.0\" y=\"157.1\">A</text>\n",
       "    <text x=\"15.4\" y=\"176.8\">A</text>\n",
       "    <text x=\"25.2\" y=\"195.1\">G</text>\n",
       "    <text x=\"38.1\" y=\"211.3\">U</text>\n",
       "    <text x=\"53.7\" y=\"225.0\">C</text>\n",
       "    <text x=\"71.6\" y=\"235.6\">A</text>\n",
       "    <text x=\"91.0\" y=\"242.9\">A</text>\n",
       "</g>\n",
       "<g stroke=\"#555\" stroke-width=\"1.58\">\n",
       "    <line x1=\"166.1\" y1=\"234.8\" x2=\"168.0\" y2=\"234.1\"/>\n",
       "    <line x1=\"184.8\" y1=\"226.0\" x2=\"186.5\" y2=\"225.0\"/>\n",
       "    <line x1=\"201.6\" y1=\"214.0\" x2=\"203.1\" y2=\"212.7\"/>\n",
       "    <line x1=\"216.0\" y1=\"199.2\" x2=\"217.3\" y2=\"197.6\"/>\n",
       "    <line x1=\"227.5\" y1=\"182.0\" x2=\"228.5\" y2=\"180.3\"/>\n",
       "    <line x1=\"235.8\" y1=\"163.1\" x2=\"236.5\" y2=\"161.2\"/>\n",
       "    <line x1=\"240.6\" y1=\"143.0\" x2=\"240.9\" y2=\"141.0\"/>\n",
       "    <line x1=\"241.7\" y1=\"122.4\" x2=\"241.6\" y2=\"120.4\"/>\n",
       "    <line x1=\"239.1\" y1=\"101.9\" x2=\"238.7\" y2=\"99.9\"/>\n",
       "    <line x1=\"232.9\" y1=\"82.2\" x2=\"232.1\" y2=\"80.4\"/>\n",
       "    <line x1=\"223.3\" y1=\"63.9\" x2=\"222.2\" y2=\"62.3\"/>\n",
       "    <line x1=\"210.5\" y1=\"47.7\" x2=\"209.1\" y2=\"46.2\"/>\n",
       "    <line x1=\"195.1\" y1=\"33.9\" x2=\"193.5\" y2=\"32.8\"/>\n",
       "    <line x1=\"177.5\" y1=\"23.2\" x2=\"175.7\" y2=\"22.3\"/>\n",
       "    <line x1=\"158.2\" y1=\"15.8\" x2=\"156.2\" y2=\"15.2\"/>\n",
       "    <line x1=\"137.9\" y1=\"11.9\" x2=\"135.9\" y2=\"11.7\"/>\n",
       "    <line x1=\"117.2\" y1=\"11.7\" x2=\"115.2\" y2=\"11.9\"/>\n",
       "    <line x1=\"96.9\" y1=\"15.2\" x2=\"94.9\" y2=\"15.8\"/>\n",
       "    <line x1=\"77.5\" y1=\"22.3\" x2=\"75.7\" y2=\"23.2\"/>\n",
       "    <line x1=\"59.6\" y1=\"32.8\" x2=\"58.0\" y2=\"33.9\"/>\n",
       "    <line x1=\"44.0\" y1=\"46.2\" x2=\"42.6\" y2=\"47.7\"/>\n",
       "    <line x1=\"31.0\" y1=\"62.3\" x2=\"29.9\" y2=\"63.9\"/>\n",
       "    <line x1=\"21.0\" y1=\"80.4\" x2=\"20.2\" y2=\"82.2\"/>\n",
       "    <line x1=\"14.5\" y1=\"99.9\" x2=\"14.0\" y2=\"101.9\"/>\n",
       "    <line x1=\"11.5\" y1=\"120.4\" x2=\"11.4\" y2=\"122.4\"/>\n",
       "    <line x1=\"12.3\" y1=\"141.0\" x2=\"12.5\" y2=\"143.0\"/>\n",
       "    <line x1=\"16.7\" y1=\"161.2\" x2=\"17.3\" y2=\"163.1\"/>\n",
       "    <line x1=\"24.6\" y1=\"180.3\" x2=\"25.6\" y2=\"182.0\"/>\n",
       "    <line x1=\"35.9\" y1=\"197.6\" x2=\"37.1\" y2=\"199.2\"/>\n",
       "    <line x1=\"50.0\" y1=\"212.7\" x2=\"51.5\" y2=\"214.0\"/>\n",
       "    <line x1=\"66.6\" y1=\"225.0\" x2=\"68.3\" y2=\"226.0\"/>\n",
       "    <line x1=\"85.1\" y1=\"234.1\" x2=\"87.0\" y2=\"234.8\"/>\n",
       "</g>\n",
       "<g stroke-width=\"1.58\" fill=\"none\">\n",
       "    <path d=\"M 216.6 183.5 A 524.1 524.1 0 0 1 73.7 34.0\" stroke=\"#526D82\"/>\n",
       "    <path d=\"M 226.5 165.3 A 296.7 296.7 0 0 1 92.4 25.0\" stroke=\"#526D82\"/>\n",
       "    <path d=\"M 232.9 145.5 A 211.7 211.7 0 0 1 112.4 19.5\" stroke=\"#526D82\"/>\n",
       "    <path d=\"M 235.7 125.0 A 168.8 168.8 0 0 1 133.0 17.7\" stroke=\"#526D82\"/>\n",
       "    <path d=\"M 234.7 104.3 A 144.2 144.2 0 0 1 153.7 19.5\" stroke=\"#526D82\"/>\n",
       "    <path d=\"M 65.0 213.4 A 868.8 868.8 0 0 1 210.5 61.2\" stroke=\"#B70404\"/>\n",
       "    <path d=\"M 49.4 199.7 A 2599.4 2599.4 0 0 1 196.2 46.2\" stroke=\"#B70404\"/>\n",
       "    <path d=\"M 179.4 34.0 A 524.1 524.1 0 0 1 36.5 183.5\" stroke=\"#B70404\"/>\n",
       "</g>\n",
       "</svg>"
      ]
     },
     "metadata": {},
     "output_type": "display_data"
    }
   ],
   "source": [
    "# Jupyter svg representation\n",
    "from IPython.display import display_svg, SVG\n",
    "display_svg(SVG(na.draw()))"
   ]
  },
  {
   "attachments": {},
   "cell_type": "markdown",
   "id": "44d3a235",
   "metadata": {},
   "source": [
    "Get attributes from NA"
   ]
  },
  {
   "cell_type": "code",
   "execution_count": 8,
   "id": "996f8ad0",
   "metadata": {},
   "outputs": [
    {
     "data": {
      "text/plain": [
       "'GAAUUCCGGUCGACUCCGGAGAAACAAAGUCAA'"
      ]
     },
     "execution_count": 8,
     "metadata": {},
     "output_type": "execute_result"
    }
   ],
   "source": [
    "na.seq"
   ]
  },
  {
   "cell_type": "code",
   "execution_count": 9,
   "id": "944fa809",
   "metadata": {},
   "outputs": [
    {
     "data": {
      "text/plain": [
       "'....(((((..[[[.)))))........]]]..'"
      ]
     },
     "execution_count": 9,
     "metadata": {},
     "output_type": "execute_result"
    }
   ],
   "source": [
    "na.struct"
   ]
  },
  {
   "attachments": {},
   "cell_type": "markdown",
   "id": "383cbf4c",
   "metadata": {},
   "source": [
    "## Work with NA graph"
   ]
  },
  {
   "cell_type": "code",
   "execution_count": 11,
   "id": "0e72d1e9",
   "metadata": {},
   "outputs": [
    {
     "data": {
      "text/plain": [
       "AGUUGGACGAACAUUAAACGUCCGGCUAGCCAAAAAAAAAAAAAAACCCAAUAGGC\n",
       "..((((..((.[[.)).(((.]]..[[[[.)))..{{..]]]]..)).}}..)).."
      ]
     },
     "execution_count": 11,
     "metadata": {},
     "output_type": "execute_result"
    }
   ],
   "source": [
    "na = nsk.NA('AGUUGGACGAACAUUAAACGUCCGGCUAGCCAAAAAAAAAAAAAAACCCAAUAGGC', \n",
    "        '..((((..((.[[.)).{{{.]]..((((.}}}..[[..))))..)).]]..))..')\n",
    "na"
   ]
  },
  {
   "attachments": {},
   "cell_type": "markdown",
   "id": "5aaaf823",
   "metadata": {},
   "source": [
    "**naskit** can parse structure graph into complementary pairs and helixes"
   ]
  },
  {
   "cell_type": "code",
   "execution_count": 13,
   "id": "27069541-921b-4153-9b54-122bf204c498",
   "metadata": {},
   "outputs": [
    {
     "name": "stdout",
     "output_type": "stream",
     "text": [
      "All secondary structure pairs:\n",
      "((2, 53), (3, 52), (4, 46), (5, 45), (8, 15), (9, 14), (11, 22), (12, 21), (17, 32), (18, 31), (19, 30), (25, 42), (26, 41), (27, 40), (28, 39), (35, 49), (36, 48)) \n",
      "\n"
     ]
    }
   ],
   "source": [
    "print(\"All secondary structure pairs:\")\n",
    "print(na.pairs, '\\n')"
   ]
  },
  {
   "cell_type": "code",
   "execution_count": 14,
   "id": "7048862a-0076-4ab4-acc3-fe0b52060047",
   "metadata": {},
   "outputs": [
    {
     "name": "stdout",
     "output_type": "stream",
     "text": [
      "All secondary structure helixes:\n",
      "He-((2, 53), (3, 52))\n",
      "He-((4, 46), (5, 45))\n",
      "He-((8, 15), (9, 14))\n",
      "He-((11, 22), (12, 21))\n",
      "He-((17, 32), (18, 31), (19, 30))\n",
      "He-((25, 42), (26, 41), (27, 40), (28, 39))\n",
      "He-((35, 49), (36, 48))\n"
     ]
    }
   ],
   "source": [
    "print(\"All secondary structure helixes:\")\n",
    "for h in na.helixes:\n",
    "    print(h)"
   ]
  },
  {
   "cell_type": "code",
   "execution_count": 15,
   "id": "15bad1da-4007-406c-9ed4-debb6885c25b",
   "metadata": {},
   "outputs": [
    {
     "name": "stdout",
     "output_type": "stream",
     "text": [
      "Indexes of knot helixes:\n",
      "(3, 5, 6) \n",
      "\n"
     ]
    }
   ],
   "source": [
    "print(\"Indexes of knot helixes:\")\n",
    "print(na.knots, '\\n')"
   ]
  },
  {
   "cell_type": "code",
   "execution_count": 16,
   "id": "d6c78c90-6b1b-4552-91c2-e37e068a2d27",
   "metadata": {},
   "outputs": [
    {
     "name": "stdout",
     "output_type": "stream",
     "text": [
      "Knot helixes orders:\n",
      "(0, 0, 0, 1, 0, 1, 2) \n",
      "\n"
     ]
    }
   ],
   "source": [
    "print(\"Knot helixes orders:\")\n",
    "print(na.helix_orders, '\\n')"
   ]
  },
  {
   "cell_type": "code",
   "execution_count": 17,
   "id": "5d4c01cf-60c6-457d-a055-ef4dbf4b28da",
   "metadata": {},
   "outputs": [
    {
     "name": "stdout",
     "output_type": "stream",
     "text": [
      "Secondary structure knot pairs:\n",
      "((11, 22), (12, 21), (25, 42), (26, 41), (27, 40), (28, 39), (35, 49), (36, 48)) \n",
      "\n"
     ]
    }
   ],
   "source": [
    "print(\"Secondary structure knot pairs:\")\n",
    "print(na.knot_pairs, '\\n')"
   ]
  },
  {
   "cell_type": "code",
   "execution_count": 18,
   "id": "d347023d-a4a8-45f5-bcda-517df4cbdedf",
   "metadata": {},
   "outputs": [
    {
     "name": "stdout",
     "output_type": "stream",
     "text": [
      "Secondary structure knot helixes:\n",
      "He-((11, 22), (12, 21))\n",
      "He-((25, 42), (26, 41), (27, 40), (28, 39))\n",
      "He-((35, 49), (36, 48))\n"
     ]
    }
   ],
   "source": [
    "print(\"Secondary structure knot helixes:\")\n",
    "for h in na.knot_helixes:\n",
    "    print(h)"
   ]
  },
  {
   "cell_type": "markdown",
   "id": "6c8c8bfb-326e-4484-82b9-994af4a9fb5f",
   "metadata": {},
   "source": [
    "## Generate random secondary structure"
   ]
  },
  {
   "cell_type": "markdown",
   "id": "0560a526-3422-4054-b794-9f802e594fa8",
   "metadata": {},
   "source": [
    "naskit can generate random ss by iteratively adding helices on free parts of a sequence."
   ]
  },
  {
   "cell_type": "markdown",
   "id": "bf08437b-71d7-4ab7-9263-861f87f7ad8a",
   "metadata": {},
   "source": [
    "You can set minimum helix length with argument **min_helix_size** and maximum helix lenght with argument **max_helix_size**. Use argument **max_compl_ratio** [0, 1] to control what ratio of nucleotides will form bonds before algorithm stops."
   ]
  },
  {
   "cell_type": "markdown",
   "id": "8075e7c6-547f-4acb-a8de-02b8e01e120c",
   "metadata": {},
   "source": [
    "naskit chooses helix size randomly each iteration and at some point there can be no space for helix of this length. To specify how many times naskit will try helix of different random length use argument **patience**. Otherwise function will return currently generated structure."
   ]
  },
  {
   "cell_type": "markdown",
   "id": "ea85b41e-22f5-4c34-8f39-4797d4bf6db1",
   "metadata": {},
   "source": [
    "You can also set seed of random state to reproduce generations with **seed** argument."
   ]
  },
  {
   "cell_type": "code",
   "execution_count": 49,
   "id": "3658f0ac-b42b-48a8-8efd-f7013c2faa41",
   "metadata": {},
   "outputs": [
    {
     "name": "stdout",
     "output_type": "stream",
     "text": [
      "Help on function generate_ss in module naskit.algo.ss_generation:\n",
      "\n",
      "generate_ss(na: Union[naskit.containers.nucleic_acid.NucleicAcid, str], min_helix_size: int = 2, max_helix_size: int = 6, max_compl_ratio: float = 0.5, patience: int = 1, seed: Optional[int] = None) -> naskit.containers.nucleic_acid.NucleicAcid\n",
      "    Generates random secondary structure.\n",
      "    \n",
      "    :param na: NucleicAcid object or sequence string.\n",
      "    :param min_helix_size: minimal size of generated helix. Default = 2.\n",
      "    :param max_helix_size: maximum size of generated helix. Default = 6.\n",
      "    :param max_compl_ratio: maximum fraction of nucleotides to form bonds [0, 1]. Default = 0.5.\n",
      "    :param patience: number of tries to fit helix of random size before function return. Default = 1.\n",
      "    :param seed: random seed. Default = None - every function call gives different result.\n",
      "    \n",
      "    :return: new NucleicAcid object with generated structure.\n",
      "\n"
     ]
    }
   ],
   "source": [
    "help(nsk.algo.generate_ss)"
   ]
  },
  {
   "cell_type": "code",
   "execution_count": 45,
   "id": "23bfdcbe-b094-4fd2-9404-23897d1494a3",
   "metadata": {},
   "outputs": [
    {
     "name": "stdout",
     "output_type": "stream",
     "text": [
      ".(((([[[[[.....[[[[....[[[[[[....))....]]]]]].....]]]].....]]]]]..))..\n",
      "((((.[[[[[[.....[[[....[[[[[[....))))....]]]]]]....]]].....]]]]]].....\n",
      ".((.[[[[[.))(({{{{{{.[[[.)).]]].]]]]]............}}}}}}...............\n",
      "(([[[(({{.<<<<..<<<))))..]]].(((..}}...............>>>......>>>>.)))..\n",
      "(((((([[[[.{{{{.((.....((((((..........))))))......))))))))]]]].}}}}..\n",
      "(((((([[[))))))(((((............[[[[[.............)))))]]]]].]]]......\n",
      "(((([[[[[[.....(((((....((((((.........)))))).....)))))))))]]]]]].....\n",
      ".((..(((((.((((.(((.....(((((...........)))))......))))))).)))))..))..\n",
      ".(((..[[[[.{{{..<<<.....)))((((((]]]].....}}}))))))>>>................\n",
      "((((.[[[[.)))).((((.....{{{......[[[..............)))).]]]..]]]].}}}..\n"
     ]
    }
   ],
   "source": [
    "for i in range(10):\n",
    "    na = nsk.NA(\"ACGCGUUUUUCGGCGGAGAAAAAAGGCGGCGGGGCGAGAAAGGUUGCGUUGCGGGGAUCGAUUGUGCGUG\")\n",
    "    na = nsk.algo.generate_ss(na, min_helix_size=2, max_helix_size=6, max_compl_ratio=0.5)\n",
    "    print(na.struct)"
   ]
  },
  {
   "cell_type": "code",
   "execution_count": 48,
   "id": "68a093d6-1ed9-48ea-ab14-6ad41aba82e6",
   "metadata": {},
   "outputs": [
    {
     "data": {
      "text/plain": [
       "ACGCGUUUUUCGGCGGAGAAAAAAGGCGGCGGGGCGAGAAAGGUUGCGUUGCGGGGAUCGAUUGUGCGUG\n",
       ".(((((((((..(((((((((((((((((((((..))))))))))).))))))))))..))))))))).."
      ]
     },
     "execution_count": 48,
     "metadata": {},
     "output_type": "execute_result"
    }
   ],
   "source": [
    "# big helixes\n",
    "\n",
    "na = nsk.NA(\"ACGCGUUUUUCGGCGGAGAAAAAAGGCGGCGGGGCGAGAAAGGUUGCGUUGCGGGGAUCGAUUGUGCGUG\")\n",
    "nsk.algo.generate_ss(na, min_helix_size=6, max_helix_size=18, max_compl_ratio=0.8)"
   ]
  },
  {
   "cell_type": "code",
   "execution_count": 47,
   "id": "6be79e9a-4fb9-4696-90f1-caacc4b27d58",
   "metadata": {},
   "outputs": [
    {
     "data": {
      "text/plain": [
       "ACGCGUUUUUCGGCGGAGAAAAAAGGCGGCGGGGCGAGAAAGGUUGCGUUGCGGGGAUCGAUUGUGCGUG\n",
       "((((((([)){{{{{([[[<[[[{{)<<]]]}})))([>{)](((..>...]]]}.)))..]}}>))}}}"
      ]
     },
     "execution_count": 47,
     "metadata": {},
     "output_type": "execute_result"
    }
   ],
   "source": [
    "# small helixes\n",
    "\n",
    "na = nsk.NA(\"ACGCGUUUUUCGGCGGAGAAAAAAGGCGGCGGGGCGAGAAAGGUUGCGUUGCGGGGAUCGAUUGUGCGUG\")\n",
    "nsk.algo.generate_ss(na, min_helix_size=1, max_helix_size=3, max_compl_ratio=0.9)"
   ]
  },
  {
   "attachments": {},
   "cell_type": "markdown",
   "id": "65d2900e",
   "metadata": {},
   "source": [
    "## Work with adjacency matrix"
   ]
  },
  {
   "cell_type": "code",
   "execution_count": 19,
   "id": "fdb48348",
   "metadata": {},
   "outputs": [],
   "source": [
    "import matplotlib.pyplot as plt\n",
    "import numpy as np"
   ]
  },
  {
   "attachments": {},
   "cell_type": "markdown",
   "id": "c49837b8",
   "metadata": {},
   "source": [
    "Get adjacency from NA"
   ]
  },
  {
   "cell_type": "code",
   "execution_count": 20,
   "id": "21edef87",
   "metadata": {},
   "outputs": [
    {
     "data": {
      "text/plain": [
       "<matplotlib.image.AxesImage at 0x7fe6be5e7670>"
      ]
     },
     "execution_count": 20,
     "metadata": {},
     "output_type": "execute_result"
    },
    {
     "data": {
      "image/png": "[encoded data removed]",
      "text/plain": [
       "<Figure size 640x480 with 1 Axes>"
      ]
     },
     "metadata": {},
     "output_type": "display_data"
    }
   ],
   "source": [
    "na = nsk.NA('GAAUUCCGGUCGACUCCGGAGAAACAAAGUCAA', \n",
    "            '....(((((..[[[.)))))........]]]..')\n",
    "\n",
    "adj = na.get_adjacency()\n",
    "plt.imshow(adj)"
   ]
  },
  {
   "attachments": {},
   "cell_type": "markdown",
   "id": "105138c4",
   "metadata": {},
   "source": [
    "Create NA from adjacency"
   ]
  },
  {
   "cell_type": "code",
   "execution_count": 21,
   "id": "11900edd",
   "metadata": {},
   "outputs": [
    {
     "name": "stdout",
     "output_type": "stream",
     "text": [
      "GAAUUCCGGUCGACUCCGGAGAAACAAAGUCAA\n",
      "....(((((..[[[.)))))........]]]..\n"
     ]
    }
   ],
   "source": [
    "na_adj = nsk.NucleicAcid.from_adjacency(adj, seq=na.seq)\n",
    "print(na_adj)"
   ]
  },
  {
   "attachments": {},
   "cell_type": "markdown",
   "id": "00d6a796",
   "metadata": {},
   "source": [
    "# I/O operations"
   ]
  },
  {
   "attachments": {},
   "cell_type": "markdown",
   "id": "d2ff35af",
   "metadata": {},
   "source": [
    "**naskit** supports reading and writing of the following formats:\n",
    "- **Fasta** with only sequnce divided into multiple lines by 80 nb\n",
    "- Extended **DotBracket** with sequence, secondary structure and meta information\n",
    "- **bpseq**\n",
    "- **PDB** reading with parsing of secondary structure based on hydrogen bonds energy \n",
    "\n",
    "You can easily Read and Write structures using **with** context manager"
   ]
  },
  {
   "attachments": {},
   "cell_type": "markdown",
   "id": "7a4ee011",
   "metadata": {},
   "source": [
    "## DotBracket"
   ]
  },
  {
   "cell_type": "code",
   "execution_count": null,
   "id": "d18d4772",
   "metadata": {},
   "outputs": [],
   "source": [
    "with nsk.dotRead(\"path\", \n",
    "                  raise_na_errors=False, # By default DotRead will return None on erroneous structures\n",
    "                  ignore_unclosed_bonds = False, \n",
    "                  upper_sequence = False,\n",
    "                  meta_separator = \": \"\n",
    "                  ) as f:\n",
    "    for na in f: # iterate over NucleicAcid objects \n",
    "        ..."
   ]
  },
  {
   "cell_type": "code",
   "execution_count": null,
   "id": "8fa6d2bb",
   "metadata": {},
   "outputs": [],
   "source": [
    "na = nsk.NA('GAAUUCCGGUCGACUCCGGAGAAACAAAGUCAA', \n",
    "            '....(((((..[[[.)))))........]]]..')\n",
    "\n",
    "with nsk.dotWrite(\"path\", \n",
    "                    append=False, # you can append new structures to file\n",
    "                    meta_separator = \": \"\n",
    "                   ) as w:\n",
    "    w.write(na, \n",
    "            # By default DotWrite will write structure and meta information\n",
    "            write_struct = True,\n",
    "            write_meta = True\n",
    "           )"
   ]
  },
  {
   "attachments": {},
   "cell_type": "markdown",
   "id": "d13ecb04",
   "metadata": {},
   "source": [
    "## Fasta"
   ]
  },
  {
   "cell_type": "code",
   "execution_count": null,
   "id": "e24229bf",
   "metadata": {},
   "outputs": [],
   "source": [
    "with nsk.fastaRead(\"path\", \n",
    "                   raise_na_errors=False, # By default FastaRead will return None on erroneous structures\n",
    "                   upper_sequence = False\n",
    "                  ) as f:\n",
    "    for na in f: # iterate over NucleicAcid objects \n",
    "        ..."
   ]
  },
  {
   "attachments": {},
   "cell_type": "markdown",
   "id": "60718b73",
   "metadata": {},
   "source": [
    "FastaWrite splits sequence by chunks of 80 characters"
   ]
  },
  {
   "cell_type": "code",
   "execution_count": null,
   "id": "a8b5ca81",
   "metadata": {},
   "outputs": [],
   "source": [
    "na = nsk.NA('GAAUUCCGGUCGACUCCGGAGAAACAAAGUCAA', \n",
    "            '....(((((..[[[.)))))........]]]..')\n",
    "\n",
    "with nsk.fastaWrite(\"path\", \n",
    "                    append=False # By default FastaRead will return None on erroneous structures\n",
    "                   ) as w:\n",
    "    w.write(na)"
   ]
  },
  {
   "attachments": {},
   "cell_type": "markdown",
   "id": "71e4d6ce",
   "metadata": {},
   "source": [
    "## bpseq"
   ]
  },
  {
   "attachments": {},
   "cell_type": "markdown",
   "id": "5f0a8157",
   "metadata": {},
   "source": [
    "To read individual file"
   ]
  },
  {
   "cell_type": "code",
   "execution_count": null,
   "id": "472bad97",
   "metadata": {},
   "outputs": [],
   "source": [
    "with nsk.bpseqRead(\"path\", \n",
    "                   raise_na_errors = False, \n",
    "                   file_as_name = False\n",
    "                  ) as f:\n",
    "    na = f.read()"
   ]
  },
  {
   "attachments": {},
   "cell_type": "markdown",
   "id": "cb354262",
   "metadata": {},
   "source": [
    "To iterate over files with \".bpseq\" format in directory and read them"
   ]
  },
  {
   "cell_type": "code",
   "execution_count": null,
   "id": "cc6463dd",
   "metadata": {},
   "outputs": [],
   "source": [
    "with nsk.bpseqDirRead(\"dir_path\", \n",
    "                      raise_na_errors = False, \n",
    "                      file_as_name = False\n",
    "                     ) as f:\n",
    "    for na in f:\n",
    "        ..."
   ]
  },
  {
   "cell_type": "code",
   "execution_count": null,
   "id": "d2406fbf",
   "metadata": {},
   "outputs": [],
   "source": [
    "na = nsk.NA('GAAUUCCGGUCGACUCCGGAGAAACAAAGUCAA', \n",
    "            '....(((((..[[[.)))))........]]]..')\n",
    "\n",
    "with nsk.bpseqWrite(\"path\") as w:\n",
    "    w.write(na)"
   ]
  },
  {
   "attachments": {},
   "cell_type": "markdown",
   "id": "c38f128d",
   "metadata": {},
   "source": [
    "## PDB"
   ]
  },
  {
   "attachments": {},
   "cell_type": "markdown",
   "id": "e455f81a",
   "metadata": {},
   "source": [
    "**naskit** allows to parse pdb file and secondary structure of a nucleic acid.</br>\n",
    "You can also request pdb from https://www.rcsb.org.</br>\n",
    "**pdbRead** reader returns **PDBModels** object. If pdb file contains one single model, just take first model by index."
   ]
  },
  {
   "cell_type": "code",
   "execution_count": 3,
   "id": "bf6db5e6-2849-4d70-94d9-771615b94ffb",
   "metadata": {},
   "outputs": [],
   "source": [
    "# read from disk\n",
    "with nsk.pdbRead(\"../pdbs/1IVS.pdb\") as f:\n",
    "    pdb = f.read(derive_element=True)[0]"
   ]
  },
  {
   "cell_type": "code",
   "execution_count": null,
   "id": "d484702a-42bd-491e-965c-bdd86a6535bc",
   "metadata": {},
   "outputs": [],
   "source": [
    "# web request\n",
    "pdb = nsk.io.request_pdb(\"1IVS\", save_path=\"../pdbs/1IVS.pdb\", derive_element=True)[0]"
   ]
  },
  {
   "cell_type": "markdown",
   "id": "bced7c11-c3a5-4915-abf6-08748ce28211",
   "metadata": {},
   "source": [
    "PDB representation shows you its content and indices of the first compound"
   ]
  },
  {
   "cell_type": "code",
   "execution_count": 5,
   "id": "5b3d2942-d115-4f7d-8635-6a4f0be29d6d",
   "metadata": {},
   "outputs": [
    {
     "data": {
      "text/plain": [
       "PDB at 0x74e9bbf06100\n",
       "    [  0] - NucleicAcidChain with 75 NucleicAcidResidue at 0x74e9bbf06140"
      ]
     },
     "execution_count": 5,
     "metadata": {},
     "output_type": "execute_result"
    }
   ],
   "source": [
    "pdb"
   ]
  },
  {
   "cell_type": "markdown",
   "id": "f6d9341d-ed4c-4b99-a1a7-a726b0901e28",
   "metadata": {},
   "source": [
    "You can **translate** atom names to a particular \"language\".</br>\n",
    "Built-in \"amber\" and \"charmm\" force field names are available, default - \"amber\".</br>"
   ]
  },
  {
   "cell_type": "code",
   "execution_count": 6,
   "id": "e598cc91-c87a-46e8-acc3-468bcca8a02f",
   "metadata": {},
   "outputs": [],
   "source": [
    "# Translate entire pdb\n",
    "pdb.translate()\n",
    "\n",
    "# Translate chain\n",
    "chain = pdb.na_chains[0]\n",
    "chain.translate(lang=\"charmm\")\n",
    "\n",
    "# Translate residue\n",
    "res = chain[1]\n",
    "res.translate()\n",
    "\n",
    "# Translate atom\n",
    "a = res[0]\n",
    "a.translate()"
   ]
  },
  {
   "cell_type": "markdown",
   "id": "e7e925b9-8a28-48ff-b912-4a835ac7949a",
   "metadata": {},
   "source": [
    "If particular atom can not be translated by built-in dictionaries you can provide user dictionary.</br>\n",
    "User defined name map will have priority in translation."
   ]
  },
  {
   "cell_type": "code",
   "execution_count": 7,
   "id": "592d8675-0b3b-4626-87b8-9a807a18e95d",
   "metadata": {},
   "outputs": [
    {
     "data": {
      "text/plain": [
       "PdbAtom 33 R (G C 1) at 0x74e9c41bce50"
      ]
     },
     "execution_count": 7,
     "metadata": {},
     "output_type": "execute_result"
    }
   ],
   "source": [
    "a.aname = \"R\"\n",
    "a"
   ]
  },
  {
   "cell_type": "code",
   "execution_count": 9,
   "id": "40adb780-a10b-4eec-ab7c-96d0caf9ae08",
   "metadata": {},
   "outputs": [
    {
     "data": {
      "text/plain": [
       "PdbAtom 33 Br (G C 1) at 0x74e9c41bce50"
      ]
     },
     "execution_count": 9,
     "metadata": {},
     "output_type": "execute_result"
    }
   ],
   "source": [
    "a.translate(udict={\"R\":\"Br\"})\n",
    "a"
   ]
  },
  {
   "cell_type": "markdown",
   "id": "05c43ad2-1df2-460a-b9f4-e2249208cc88",
   "metadata": {},
   "source": [
    "**pdbWrite** can write pdb, chains or individual molecules"
   ]
  },
  {
   "cell_type": "code",
   "execution_count": null,
   "id": "314134ba-2a05-482c-a999-e0311dd52b7d",
   "metadata": {},
   "outputs": [],
   "source": [
    "# Write entire pdb\n",
    "with pdbWrite(\"path\") as w:\n",
    "    w.write(pdb)\n",
    "\n",
    "# Write chain\n",
    "with pdbWrite(\"path\") as w:\n",
    "    w.write(pdb[0])\n",
    "\n",
    "# Write molecule\n",
    "with pdbWrite(\"path\") as w:\n",
    "    w.write(pdb[6])"
   ]
  },
  {
   "cell_type": "code",
   "execution_count": 41,
   "id": "615f2c08-164c-4d6a-9e91-b65d864d76c8",
   "metadata": {},
   "outputs": [
    {
     "data": {
      "application/vnd.plotly.v1+json": {
       "config": {
        "plotlyServerURL": "https://plot.ly"
       },
       "data": [
        {
         "hoverinfo": "text",
         "hovertext": [
          "N 990 VAA",
          "CA 990 VAA",
          "CB 990 VAA",
          "CG1 990 VAA",
          "CG2 990 VAA",
          "C 990 VAA",
          "O 990 VAA",
          "S 990 VAA",
          "O1S 990 VAA",
          "O2S 990 VAA",
          "N3S 990 VAA",
          "N5' 990 VAA",
          "C5' 990 VAA",
          "C4' 990 VAA",
          "O4' 990 VAA",
          "C1' 990 VAA",
          "N9 990 VAA",
          "C4 990 VAA",
          "N3 990 VAA",
          "C2 990 VAA",
          "N1 990 VAA",
          "C6 990 VAA",
          "N6 990 VAA",
          "C5 990 VAA",
          "N7 990 VAA",
          "C8 990 VAA",
          "C2' 990 VAA",
          "O2' 990 VAA",
          "C3' 990 VAA",
          "O3' 990 VAA"
         ],
         "marker": {
          "color": [
           "#1DDE81",
           "#1D90DE",
           "#1D90DE",
           "#1D90DE",
           "#1D90DE",
           "#1D90DE",
           "#DE371D",
           "#E0D86B",
           "#DE371D",
           "#DE371D",
           "#1DDE81",
           "#1DDE81",
           "#1D90DE",
           "#1D90DE",
           "#DE371D",
           "#1D90DE",
           "#1DDE81",
           "#1D90DE",
           "#1DDE81",
           "#1D90DE",
           "#1DDE81",
           "#1D90DE",
           "#1DDE81",
           "#1D90DE",
           "#1DDE81",
           "#1D90DE",
           "#1D90DE",
           "#DE371D",
           "#1D90DE",
           "#DE371D"
          ],
          "opacity": 1,
          "size": [
           31.409819530997677,
           37.57960551030079,
           37.57960551030079,
           37.57960551030079,
           37.57960551030079,
           37.57960551030079,
           26.92270245514086,
           49.358287834424914,
           26.92270245514086,
           26.92270245514086,
           31.409819530997677,
           31.409819530997677,
           37.57960551030079,
           37.57960551030079,
           26.92270245514086,
           37.57960551030079,
           31.409819530997677,
           37.57960551030079,
           31.409819530997677,
           37.57960551030079,
           31.409819530997677,
           37.57960551030079,
           31.409819530997677,
           37.57960551030079,
           31.409819530997677,
           37.57960551030079,
           37.57960551030079,
           26.92270245514086,
           37.57960551030079,
           26.92270245514086
          ]
         },
         "mode": "markers",
         "type": "scatter3d",
         "x": [
          87.06600189208984,
          88.15799713134766,
          89.60399627685547,
          89.91400146484375,
          89.73699951171875,
          88.08000183105469,
          89.0790023803711,
          86.7239990234375,
          85.34300231933594,
          87.02100372314453,
          86.88899993896484,
          87.76100158691406,
          88.94000244140625,
          89.84500122070312,
          89.51799774169922,
          90.51399993896484,
          89.86799621582031,
          90.34600067138672,
          91.4530029296875,
          91.6259994506836,
          90.86599731445312,
          89.76200103759766,
          89.01499938964844,
          89.46099853515625,
          88.47799682617188,
          88.75900268554688,
          91.45899963378906,
          92.80400085449219,
          91.25700378417969,
          92.0510025024414
         ],
         "y": [
          34.994998931884766,
          35.58399963378906,
          35.249000549316406,
          35.926998138427734,
          33.79800033569336,
          37.0989990234375,
          37.71799850463867,
          39.42300033569336,
          39.8650016784668,
          39.94599914550781,
          37.689998626708984,
          40.23899841308594,
          40.33700180053711,
          40.84199905395508,
          42.202999114990234,
          43.007999420166016,
          43.948001861572266,
          45.297000885009766,
          45.90299987792969,
          47.191001892089844,
          47.882999420166016,
          47.25,
          47.96099853515625,
          45.875,
          44.95199966430664,
          43.88800048828125,
          41.99700164794922,
          42.54199981689453,
          40.77899932861328,
          40.76499938964844
         ],
         "z": [
          23.624000549316406,
          24.459999084472656,
          23.868999481201172,
          22.481000900268555,
          23.709999084472656,
          24.577999114990234,
          25.024999618530273,
          24.257999420166016,
          23.783000946044922,
          25.597999572753906,
          24.167999267578125,
          23.20400047302246,
          23.79199981689453,
          22.841999053955078,
          22.673999786376953,
          23.398000717163086,
          24.292999267578125,
          24.472999572753906,
          23.857999801635742,
          24.25200080871582,
          25.1299991607666,
          25.73200035095215,
          26.607999801635742,
          25.400999069213867,
          25.788000106811523,
          25.131999969482422,
          24.073999404907227,
          24.02199935913086,
          23.274999618530273,
          22.06800079345703
         ]
        }
       ],
       "layout": {
        "height": 500,
        "scene": {
         "aspectmode": "auto",
         "aspectratio": {
          "x": 0.953076256901898,
          "y": 1.8091971532828781,
          "z": 0.5799445262808484
         },
         "camera": {
          "center": {
           "x": 0,
           "y": 0,
           "z": 0
          },
          "eye": {
           "x": 1.2816173052043207,
           "y": -0.61785352879991,
           "z": 1.6319356911196943
          },
          "projection": {
           "type": "perspective"
          },
          "up": {
           "x": -0.7998714331838296,
           "y": -0.09315996876687016,
           "z": 0.5928970489012431
          }
         },
         "dragmode": "orbit",
         "xaxis": {
          "type": "linear",
          "visible": false
         },
         "yaxis": {
          "type": "linear",
          "visible": false
         },
         "zaxis": {
          "type": "linear",
          "visible": false
         }
        },
        "template": {
         "data": {
          "bar": [
           {
            "error_x": {
             "color": "#2a3f5f"
            },
            "error_y": {
             "color": "#2a3f5f"
            },
            "marker": {
             "line": {
              "color": "#E5ECF6",
              "width": 0.5
             },
             "pattern": {
              "fillmode": "overlay",
              "size": 10,
              "solidity": 0.2
             }
            },
            "type": "bar"
           }
          ],
          "barpolar": [
           {
            "marker": {
             "line": {
              "color": "#E5ECF6",
              "width": 0.5
             },
             "pattern": {
              "fillmode": "overlay",
              "size": 10,
              "solidity": 0.2
             }
            },
            "type": "barpolar"
           }
          ],
          "carpet": [
           {
            "aaxis": {
             "endlinecolor": "#2a3f5f",
             "gridcolor": "white",
             "linecolor": "white",
             "minorgridcolor": "white",
             "startlinecolor": "#2a3f5f"
            },
            "baxis": {
             "endlinecolor": "#2a3f5f",
             "gridcolor": "white",
             "linecolor": "white",
             "minorgridcolor": "white",
             "startlinecolor": "#2a3f5f"
            },
            "type": "carpet"
           }
          ],
          "choropleth": [
           {
            "colorbar": {
             "outlinewidth": 0,
             "ticks": ""
            },
            "type": "choropleth"
           }
          ],
          "contour": [
           {
            "colorbar": {
             "outlinewidth": 0,
             "ticks": ""
            },
            "colorscale": [
             [
              0,
              "#0d0887"
             ],
             [
              0.1111111111111111,
              "#46039f"
             ],
             [
              0.2222222222222222,
              "#7201a8"
             ],
             [
              0.3333333333333333,
              "#9c179e"
             ],
             [
              0.4444444444444444,
              "#bd3786"
             ],
             [
              0.5555555555555556,
              "#d8576b"
             ],
             [
              0.6666666666666666,
              "#ed7953"
             ],
             [
              0.7777777777777778,
              "#fb9f3a"
             ],
             [
              0.8888888888888888,
              "#fdca26"
             ],
             [
              1,
              "#f0f921"
             ]
            ],
            "type": "contour"
           }
          ],
          "contourcarpet": [
           {
            "colorbar": {
             "outlinewidth": 0,
             "ticks": ""
            },
            "type": "contourcarpet"
           }
          ],
          "heatmap": [
           {
            "colorbar": {
             "outlinewidth": 0,
             "ticks": ""
            },
            "colorscale": [
             [
              0,
              "#0d0887"
             ],
             [
              0.1111111111111111,
              "#46039f"
             ],
             [
              0.2222222222222222,
              "#7201a8"
             ],
             [
              0.3333333333333333,
              "#9c179e"
             ],
             [
              0.4444444444444444,
              "#bd3786"
             ],
             [
              0.5555555555555556,
              "#d8576b"
             ],
             [
              0.6666666666666666,
              "#ed7953"
             ],
             [
              0.7777777777777778,
              "#fb9f3a"
             ],
             [
              0.8888888888888888,
              "#fdca26"
             ],
             [
              1,
              "#f0f921"
             ]
            ],
            "type": "heatmap"
           }
          ],
          "heatmapgl": [
           {
            "colorbar": {
             "outlinewidth": 0,
             "ticks": ""
            },
            "colorscale": [
             [
              0,
              "#0d0887"
             ],
             [
              0.1111111111111111,
              "#46039f"
             ],
             [
              0.2222222222222222,
              "#7201a8"
             ],
             [
              0.3333333333333333,
              "#9c179e"
             ],
             [
              0.4444444444444444,
              "#bd3786"
             ],
             [
              0.5555555555555556,
              "#d8576b"
             ],
             [
              0.6666666666666666,
              "#ed7953"
             ],
             [
              0.7777777777777778,
              "#fb9f3a"
             ],
             [
              0.8888888888888888,
              "#fdca26"
             ],
             [
              1,
              "#f0f921"
             ]
            ],
            "type": "heatmapgl"
           }
          ],
          "histogram": [
           {
            "marker": {
             "pattern": {
              "fillmode": "overlay",
              "size": 10,
              "solidity": 0.2
             }
            },
            "type": "histogram"
           }
          ],
          "histogram2d": [
           {
            "colorbar": {
             "outlinewidth": 0,
             "ticks": ""
            },
            "colorscale": [
             [
              0,
              "#0d0887"
             ],
             [
              0.1111111111111111,
              "#46039f"
             ],
             [
              0.2222222222222222,
              "#7201a8"
             ],
             [
              0.3333333333333333,
              "#9c179e"
             ],
             [
              0.4444444444444444,
              "#bd3786"
             ],
             [
              0.5555555555555556,
              "#d8576b"
             ],
             [
              0.6666666666666666,
              "#ed7953"
             ],
             [
              0.7777777777777778,
              "#fb9f3a"
             ],
             [
              0.8888888888888888,
              "#fdca26"
             ],
             [
              1,
              "#f0f921"
             ]
            ],
            "type": "histogram2d"
           }
          ],
          "histogram2dcontour": [
           {
            "colorbar": {
             "outlinewidth": 0,
             "ticks": ""
            },
            "colorscale": [
             [
              0,
              "#0d0887"
             ],
             [
              0.1111111111111111,
              "#46039f"
             ],
             [
              0.2222222222222222,
              "#7201a8"
             ],
             [
              0.3333333333333333,
              "#9c179e"
             ],
             [
              0.4444444444444444,
              "#bd3786"
             ],
             [
              0.5555555555555556,
              "#d8576b"
             ],
             [
              0.6666666666666666,
              "#ed7953"
             ],
             [
              0.7777777777777778,
              "#fb9f3a"
             ],
             [
              0.8888888888888888,
              "#fdca26"
             ],
             [
              1,
              "#f0f921"
             ]
            ],
            "type": "histogram2dcontour"
           }
          ],
          "mesh3d": [
           {
            "colorbar": {
             "outlinewidth": 0,
             "ticks": ""
            },
            "type": "mesh3d"
           }
          ],
          "parcoords": [
           {
            "line": {
             "colorbar": {
              "outlinewidth": 0,
              "ticks": ""
             }
            },
            "type": "parcoords"
           }
          ],
          "pie": [
           {
            "automargin": true,
            "type": "pie"
           }
          ],
          "scatter": [
           {
            "fillpattern": {
             "fillmode": "overlay",
             "size": 10,
             "solidity": 0.2
            },
            "type": "scatter"
           }
          ],
          "scatter3d": [
           {
            "line": {
             "colorbar": {
              "outlinewidth": 0,
              "ticks": ""
             }
            },
            "marker": {
             "colorbar": {
              "outlinewidth": 0,
              "ticks": ""
             }
            },
            "type": "scatter3d"
           }
          ],
          "scattercarpet": [
           {
            "marker": {
             "colorbar": {
              "outlinewidth": 0,
              "ticks": ""
             }
            },
            "type": "scattercarpet"
           }
          ],
          "scattergeo": [
           {
            "marker": {
             "colorbar": {
              "outlinewidth": 0,
              "ticks": ""
             }
            },
            "type": "scattergeo"
           }
          ],
          "scattergl": [
           {
            "marker": {
             "colorbar": {
              "outlinewidth": 0,
              "ticks": ""
             }
            },
            "type": "scattergl"
           }
          ],
          "scattermapbox": [
           {
            "marker": {
             "colorbar": {
              "outlinewidth": 0,
              "ticks": ""
             }
            },
            "type": "scattermapbox"
           }
          ],
          "scatterpolar": [
           {
            "marker": {
             "colorbar": {
              "outlinewidth": 0,
              "ticks": ""
             }
            },
            "type": "scatterpolar"
           }
          ],
          "scatterpolargl": [
           {
            "marker": {
             "colorbar": {
              "outlinewidth": 0,
              "ticks": ""
             }
            },
            "type": "scatterpolargl"
           }
          ],
          "scatterternary": [
           {
            "marker": {
             "colorbar": {
              "outlinewidth": 0,
              "ticks": ""
             }
            },
            "type": "scatterternary"
           }
          ],
          "surface": [
           {
            "colorbar": {
             "outlinewidth": 0,
             "ticks": ""
            },
            "colorscale": [
             [
              0,
              "#0d0887"
             ],
             [
              0.1111111111111111,
              "#46039f"
             ],
             [
              0.2222222222222222,
              "#7201a8"
             ],
             [
              0.3333333333333333,
              "#9c179e"
             ],
             [
              0.4444444444444444,
              "#bd3786"
             ],
             [
              0.5555555555555556,
              "#d8576b"
             ],
             [
              0.6666666666666666,
              "#ed7953"
             ],
             [
              0.7777777777777778,
              "#fb9f3a"
             ],
             [
              0.8888888888888888,
              "#fdca26"
             ],
             [
              1,
              "#f0f921"
             ]
            ],
            "type": "surface"
           }
          ],
          "table": [
           {
            "cells": {
             "fill": {
              "color": "#EBF0F8"
             },
             "line": {
              "color": "white"
             }
            },
            "header": {
             "fill": {
              "color": "#C8D4E3"
             },
             "line": {
              "color": "white"
             }
            },
            "type": "table"
           }
          ]
         },
         "layout": {
          "annotationdefaults": {
           "arrowcolor": "#2a3f5f",
           "arrowhead": 0,
           "arrowwidth": 1
          },
          "autotypenumbers": "strict",
          "coloraxis": {
           "colorbar": {
            "outlinewidth": 0,
            "ticks": ""
           }
          },
          "colorscale": {
           "diverging": [
            [
             0,
             "#8e0152"
            ],
            [
             0.1,
             "#c51b7d"
            ],
            [
             0.2,
             "#de77ae"
            ],
            [
             0.3,
             "#f1b6da"
            ],
            [
             0.4,
             "#fde0ef"
            ],
            [
             0.5,
             "#f7f7f7"
            ],
            [
             0.6,
             "#e6f5d0"
            ],
            [
             0.7,
             "#b8e186"
            ],
            [
             0.8,
             "#7fbc41"
            ],
            [
             0.9,
             "#4d9221"
            ],
            [
             1,
             "#276419"
            ]
           ],
           "sequential": [
            [
             0,
             "#0d0887"
            ],
            [
             0.1111111111111111,
             "#46039f"
            ],
            [
             0.2222222222222222,
             "#7201a8"
            ],
            [
             0.3333333333333333,
             "#9c179e"
            ],
            [
             0.4444444444444444,
             "#bd3786"
            ],
            [
             0.5555555555555556,
             "#d8576b"
            ],
            [
             0.6666666666666666,
             "#ed7953"
            ],
            [
             0.7777777777777778,
             "#fb9f3a"
            ],
            [
             0.8888888888888888,
             "#fdca26"
            ],
            [
             1,
             "#f0f921"
            ]
           ],
           "sequentialminus": [
            [
             0,
             "#0d0887"
            ],
            [
             0.1111111111111111,
             "#46039f"
            ],
            [
             0.2222222222222222,
             "#7201a8"
            ],
            [
             0.3333333333333333,
             "#9c179e"
            ],
            [
             0.4444444444444444,
             "#bd3786"
            ],
            [
             0.5555555555555556,
             "#d8576b"
            ],
            [
             0.6666666666666666,
             "#ed7953"
            ],
            [
             0.7777777777777778,
             "#fb9f3a"
            ],
            [
             0.8888888888888888,
             "#fdca26"
            ],
            [
             1,
             "#f0f921"
            ]
           ]
          },
          "colorway": [
           "#636efa",
           "#EF553B",
           "#00cc96",
           "#ab63fa",
           "#FFA15A",
           "#19d3f3",
           "#FF6692",
           "#B6E880",
           "#FF97FF",
           "#FECB52"
          ],
          "font": {
           "color": "#2a3f5f"
          },
          "geo": {
           "bgcolor": "white",
           "lakecolor": "white",
           "landcolor": "#E5ECF6",
           "showlakes": true,
           "showland": true,
           "subunitcolor": "white"
          },
          "hoverlabel": {
           "align": "left"
          },
          "hovermode": "closest",
          "mapbox": {
           "style": "light"
          },
          "paper_bgcolor": "white",
          "plot_bgcolor": "#E5ECF6",
          "polar": {
           "angularaxis": {
            "gridcolor": "white",
            "linecolor": "white",
            "ticks": ""
           },
           "bgcolor": "#E5ECF6",
           "radialaxis": {
            "gridcolor": "white",
            "linecolor": "white",
            "ticks": ""
           }
          },
          "scene": {
           "xaxis": {
            "backgroundcolor": "#E5ECF6",
            "gridcolor": "white",
            "gridwidth": 2,
            "linecolor": "white",
            "showbackground": true,
            "ticks": "",
            "zerolinecolor": "white"
           },
           "yaxis": {
            "backgroundcolor": "#E5ECF6",
            "gridcolor": "white",
            "gridwidth": 2,
            "linecolor": "white",
            "showbackground": true,
            "ticks": "",
            "zerolinecolor": "white"
           },
           "zaxis": {
            "backgroundcolor": "#E5ECF6",
            "gridcolor": "white",
            "gridwidth": 2,
            "linecolor": "white",
            "showbackground": true,
            "ticks": "",
            "zerolinecolor": "white"
           }
          },
          "shapedefaults": {
           "line": {
            "color": "#2a3f5f"
           }
          },
          "ternary": {
           "aaxis": {
            "gridcolor": "white",
            "linecolor": "white",
            "ticks": ""
           },
           "baxis": {
            "gridcolor": "white",
            "linecolor": "white",
            "ticks": ""
           },
           "bgcolor": "#E5ECF6",
           "caxis": {
            "gridcolor": "white",
            "linecolor": "white",
            "ticks": ""
           }
          },
          "title": {
           "x": 0.05
          },
          "xaxis": {
           "automargin": true,
           "gridcolor": "white",
           "linecolor": "white",
           "ticks": "",
           "title": {
            "standoff": 15
           },
           "zerolinecolor": "white",
           "zerolinewidth": 2
          },
          "yaxis": {
           "automargin": true,
           "gridcolor": "white",
           "linecolor": "white",
           "ticks": "",
           "title": {
            "standoff": 15
           },
           "zerolinecolor": "white",
           "zerolinewidth": 2
          }
         }
        },
        "width": 500
       }
      },
      "image/png": "[encoded data removed]",
      "text/html": [
       "<div>                            <div id=\"39be87cb-5efe-4243-8e80-f10393823eb3\" class=\"plotly-graph-div\" style=\"height:500px; width:500px;\"></div>            <script type=\"text/javascript\">                require([\"plotly\"], function(Plotly) {                    window.PLOTLYENV=window.PLOTLYENV || {};                                    if (document.getElementById(\"39be87cb-5efe-4243-8e80-f10393823eb3\")) {                    Plotly.newPlot(                        \"39be87cb-5efe-4243-8e80-f10393823eb3\",                        [{\"hoverinfo\":\"text\",\"hovertext\":[\"N 990 VAA\",\"CA 990 VAA\",\"CB 990 VAA\",\"CG1 990 VAA\",\"CG2 990 VAA\",\"C 990 VAA\",\"O 990 VAA\",\"S 990 VAA\",\"O1S 990 VAA\",\"O2S 990 VAA\",\"N3S 990 VAA\",\"N5' 990 VAA\",\"C5' 990 VAA\",\"C4' 990 VAA\",\"O4' 990 VAA\",\"C1' 990 VAA\",\"N9 990 VAA\",\"C4 990 VAA\",\"N3 990 VAA\",\"C2 990 VAA\",\"N1 990 VAA\",\"C6 990 VAA\",\"N6 990 VAA\",\"C5 990 VAA\",\"N7 990 VAA\",\"C8 990 VAA\",\"C2' 990 VAA\",\"O2' 990 VAA\",\"C3' 990 VAA\",\"O3' 990 VAA\"],\"marker\":{\"color\":[\"#1DDE81\",\"#1D90DE\",\"#1D90DE\",\"#1D90DE\",\"#1D90DE\",\"#1D90DE\",\"#DE371D\",\"#E0D86B\",\"#DE371D\",\"#DE371D\",\"#1DDE81\",\"#1DDE81\",\"#1D90DE\",\"#1D90DE\",\"#DE371D\",\"#1D90DE\",\"#1DDE81\",\"#1D90DE\",\"#1DDE81\",\"#1D90DE\",\"#1DDE81\",\"#1D90DE\",\"#1DDE81\",\"#1D90DE\",\"#1DDE81\",\"#1D90DE\",\"#1D90DE\",\"#DE371D\",\"#1D90DE\",\"#DE371D\"],\"opacity\":1.0,\"size\":[31.409819530997677,37.57960551030079,37.57960551030079,37.57960551030079,37.57960551030079,37.57960551030079,26.92270245514086,49.358287834424914,26.92270245514086,26.92270245514086,31.409819530997677,31.409819530997677,37.57960551030079,37.57960551030079,26.92270245514086,37.57960551030079,31.409819530997677,37.57960551030079,31.409819530997677,37.57960551030079,31.409819530997677,37.57960551030079,31.409819530997677,37.57960551030079,31.409819530997677,37.57960551030079,37.57960551030079,26.92270245514086,37.57960551030079,26.92270245514086]},\"mode\":\"markers\",\"x\":[87.06600189208984,88.15799713134766,89.60399627685547,89.91400146484375,89.73699951171875,88.08000183105469,89.0790023803711,86.7239990234375,85.34300231933594,87.02100372314453,86.88899993896484,87.76100158691406,88.94000244140625,89.84500122070312,89.51799774169922,90.51399993896484,89.86799621582031,90.34600067138672,91.4530029296875,91.6259994506836,90.86599731445312,89.76200103759766,89.01499938964844,89.46099853515625,88.47799682617188,88.75900268554688,91.45899963378906,92.80400085449219,91.25700378417969,92.0510025024414],\"y\":[34.994998931884766,35.58399963378906,35.249000549316406,35.926998138427734,33.79800033569336,37.0989990234375,37.71799850463867,39.42300033569336,39.8650016784668,39.94599914550781,37.689998626708984,40.23899841308594,40.33700180053711,40.84199905395508,42.202999114990234,43.007999420166016,43.948001861572266,45.297000885009766,45.90299987792969,47.191001892089844,47.882999420166016,47.25,47.96099853515625,45.875,44.95199966430664,43.88800048828125,41.99700164794922,42.54199981689453,40.77899932861328,40.76499938964844],\"z\":[23.624000549316406,24.459999084472656,23.868999481201172,22.481000900268555,23.709999084472656,24.577999114990234,25.024999618530273,24.257999420166016,23.783000946044922,25.597999572753906,24.167999267578125,23.20400047302246,23.79199981689453,22.841999053955078,22.673999786376953,23.398000717163086,24.292999267578125,24.472999572753906,23.857999801635742,24.25200080871582,25.1299991607666,25.73200035095215,26.607999801635742,25.400999069213867,25.788000106811523,25.131999969482422,24.073999404907227,24.02199935913086,23.274999618530273,22.06800079345703],\"type\":\"scatter3d\"}],                        {\"height\":500,\"width\":500,\"template\":{\"data\":{\"histogram2dcontour\":[{\"type\":\"histogram2dcontour\",\"colorbar\":{\"outlinewidth\":0,\"ticks\":\"\"},\"colorscale\":[[0.0,\"#0d0887\"],[0.1111111111111111,\"#46039f\"],[0.2222222222222222,\"#7201a8\"],[0.3333333333333333,\"#9c179e\"],[0.4444444444444444,\"#bd3786\"],[0.5555555555555556,\"#d8576b\"],[0.6666666666666666,\"#ed7953\"],[0.7777777777777778,\"#fb9f3a\"],[0.8888888888888888,\"#fdca26\"],[1.0,\"#f0f921\"]]}],\"choropleth\":[{\"type\":\"choropleth\",\"colorbar\":{\"outlinewidth\":0,\"ticks\":\"\"}}],\"histogram2d\":[{\"type\":\"histogram2d\",\"colorbar\":{\"outlinewidth\":0,\"ticks\":\"\"},\"colorscale\":[[0.0,\"#0d0887\"],[0.1111111111111111,\"#46039f\"],[0.2222222222222222,\"#7201a8\"],[0.3333333333333333,\"#9c179e\"],[0.4444444444444444,\"#bd3786\"],[0.5555555555555556,\"#d8576b\"],[0.6666666666666666,\"#ed7953\"],[0.7777777777777778,\"#fb9f3a\"],[0.8888888888888888,\"#fdca26\"],[1.0,\"#f0f921\"]]}],\"heatmap\":[{\"type\":\"heatmap\",\"colorbar\":{\"outlinewidth\":0,\"ticks\":\"\"},\"colorscale\":[[0.0,\"#0d0887\"],[0.1111111111111111,\"#46039f\"],[0.2222222222222222,\"#7201a8\"],[0.3333333333333333,\"#9c179e\"],[0.4444444444444444,\"#bd3786\"],[0.5555555555555556,\"#d8576b\"],[0.6666666666666666,\"#ed7953\"],[0.7777777777777778,\"#fb9f3a\"],[0.8888888888888888,\"#fdca26\"],[1.0,\"#f0f921\"]]}],\"heatmapgl\":[{\"type\":\"heatmapgl\",\"colorbar\":{\"outlinewidth\":0,\"ticks\":\"\"},\"colorscale\":[[0.0,\"#0d0887\"],[0.1111111111111111,\"#46039f\"],[0.2222222222222222,\"#7201a8\"],[0.3333333333333333,\"#9c179e\"],[0.4444444444444444,\"#bd3786\"],[0.5555555555555556,\"#d8576b\"],[0.6666666666666666,\"#ed7953\"],[0.7777777777777778,\"#fb9f3a\"],[0.8888888888888888,\"#fdca26\"],[1.0,\"#f0f921\"]]}],\"contourcarpet\":[{\"type\":\"contourcarpet\",\"colorbar\":{\"outlinewidth\":0,\"ticks\":\"\"}}],\"contour\":[{\"type\":\"contour\",\"colorbar\":{\"outlinewidth\":0,\"ticks\":\"\"},\"colorscale\":[[0.0,\"#0d0887\"],[0.1111111111111111,\"#46039f\"],[0.2222222222222222,\"#7201a8\"],[0.3333333333333333,\"#9c179e\"],[0.4444444444444444,\"#bd3786\"],[0.5555555555555556,\"#d8576b\"],[0.6666666666666666,\"#ed7953\"],[0.7777777777777778,\"#fb9f3a\"],[0.8888888888888888,\"#fdca26\"],[1.0,\"#f0f921\"]]}],\"surface\":[{\"type\":\"surface\",\"colorbar\":{\"outlinewidth\":0,\"ticks\":\"\"},\"colorscale\":[[0.0,\"#0d0887\"],[0.1111111111111111,\"#46039f\"],[0.2222222222222222,\"#7201a8\"],[0.3333333333333333,\"#9c179e\"],[0.4444444444444444,\"#bd3786\"],[0.5555555555555556,\"#d8576b\"],[0.6666666666666666,\"#ed7953\"],[0.7777777777777778,\"#fb9f3a\"],[0.8888888888888888,\"#fdca26\"],[1.0,\"#f0f921\"]]}],\"mesh3d\":[{\"type\":\"mesh3d\",\"colorbar\":{\"outlinewidth\":0,\"ticks\":\"\"}}],\"scatter\":[{\"fillpattern\":{\"fillmode\":\"overlay\",\"size\":10,\"solidity\":0.2},\"type\":\"scatter\"}],\"parcoords\":[{\"type\":\"parcoords\",\"line\":{\"colorbar\":{\"outlinewidth\":0,\"ticks\":\"\"}}}],\"scatterpolargl\":[{\"type\":\"scatterpolargl\",\"marker\":{\"colorbar\":{\"outlinewidth\":0,\"ticks\":\"\"}}}],\"bar\":[{\"error_x\":{\"color\":\"#2a3f5f\"},\"error_y\":{\"color\":\"#2a3f5f\"},\"marker\":{\"line\":{\"color\":\"#E5ECF6\",\"width\":0.5},\"pattern\":{\"fillmode\":\"overlay\",\"size\":10,\"solidity\":0.2}},\"type\":\"bar\"}],\"scattergeo\":[{\"type\":\"scattergeo\",\"marker\":{\"colorbar\":{\"outlinewidth\":0,\"ticks\":\"\"}}}],\"scatterpolar\":[{\"type\":\"scatterpolar\",\"marker\":{\"colorbar\":{\"outlinewidth\":0,\"ticks\":\"\"}}}],\"histogram\":[{\"marker\":{\"pattern\":{\"fillmode\":\"overlay\",\"size\":10,\"solidity\":0.2}},\"type\":\"histogram\"}],\"scattergl\":[{\"type\":\"scattergl\",\"marker\":{\"colorbar\":{\"outlinewidth\":0,\"ticks\":\"\"}}}],\"scatter3d\":[{\"type\":\"scatter3d\",\"line\":{\"colorbar\":{\"outlinewidth\":0,\"ticks\":\"\"}},\"marker\":{\"colorbar\":{\"outlinewidth\":0,\"ticks\":\"\"}}}],\"scattermapbox\":[{\"type\":\"scattermapbox\",\"marker\":{\"colorbar\":{\"outlinewidth\":0,\"ticks\":\"\"}}}],\"scatterternary\":[{\"type\":\"scatterternary\",\"marker\":{\"colorbar\":{\"outlinewidth\":0,\"ticks\":\"\"}}}],\"scattercarpet\":[{\"type\":\"scattercarpet\",\"marker\":{\"colorbar\":{\"outlinewidth\":0,\"ticks\":\"\"}}}],\"carpet\":[{\"aaxis\":{\"endlinecolor\":\"#2a3f5f\",\"gridcolor\":\"white\",\"linecolor\":\"white\",\"minorgridcolor\":\"white\",\"startlinecolor\":\"#2a3f5f\"},\"baxis\":{\"endlinecolor\":\"#2a3f5f\",\"gridcolor\":\"white\",\"linecolor\":\"white\",\"minorgridcolor\":\"white\",\"startlinecolor\":\"#2a3f5f\"},\"type\":\"carpet\"}],\"table\":[{\"cells\":{\"fill\":{\"color\":\"#EBF0F8\"},\"line\":{\"color\":\"white\"}},\"header\":{\"fill\":{\"color\":\"#C8D4E3\"},\"line\":{\"color\":\"white\"}},\"type\":\"table\"}],\"barpolar\":[{\"marker\":{\"line\":{\"color\":\"#E5ECF6\",\"width\":0.5},\"pattern\":{\"fillmode\":\"overlay\",\"size\":10,\"solidity\":0.2}},\"type\":\"barpolar\"}],\"pie\":[{\"automargin\":true,\"type\":\"pie\"}]},\"layout\":{\"autotypenumbers\":\"strict\",\"colorway\":[\"#636efa\",\"#EF553B\",\"#00cc96\",\"#ab63fa\",\"#FFA15A\",\"#19d3f3\",\"#FF6692\",\"#B6E880\",\"#FF97FF\",\"#FECB52\"],\"font\":{\"color\":\"#2a3f5f\"},\"hovermode\":\"closest\",\"hoverlabel\":{\"align\":\"left\"},\"paper_bgcolor\":\"white\",\"plot_bgcolor\":\"#E5ECF6\",\"polar\":{\"bgcolor\":\"#E5ECF6\",\"angularaxis\":{\"gridcolor\":\"white\",\"linecolor\":\"white\",\"ticks\":\"\"},\"radialaxis\":{\"gridcolor\":\"white\",\"linecolor\":\"white\",\"ticks\":\"\"}},\"ternary\":{\"bgcolor\":\"#E5ECF6\",\"aaxis\":{\"gridcolor\":\"white\",\"linecolor\":\"white\",\"ticks\":\"\"},\"baxis\":{\"gridcolor\":\"white\",\"linecolor\":\"white\",\"ticks\":\"\"},\"caxis\":{\"gridcolor\":\"white\",\"linecolor\":\"white\",\"ticks\":\"\"}},\"coloraxis\":{\"colorbar\":{\"outlinewidth\":0,\"ticks\":\"\"}},\"colorscale\":{\"sequential\":[[0.0,\"#0d0887\"],[0.1111111111111111,\"#46039f\"],[0.2222222222222222,\"#7201a8\"],[0.3333333333333333,\"#9c179e\"],[0.4444444444444444,\"#bd3786\"],[0.5555555555555556,\"#d8576b\"],[0.6666666666666666,\"#ed7953\"],[0.7777777777777778,\"#fb9f3a\"],[0.8888888888888888,\"#fdca26\"],[1.0,\"#f0f921\"]],\"sequentialminus\":[[0.0,\"#0d0887\"],[0.1111111111111111,\"#46039f\"],[0.2222222222222222,\"#7201a8\"],[0.3333333333333333,\"#9c179e\"],[0.4444444444444444,\"#bd3786\"],[0.5555555555555556,\"#d8576b\"],[0.6666666666666666,\"#ed7953\"],[0.7777777777777778,\"#fb9f3a\"],[0.8888888888888888,\"#fdca26\"],[1.0,\"#f0f921\"]],\"diverging\":[[0,\"#8e0152\"],[0.1,\"#c51b7d\"],[0.2,\"#de77ae\"],[0.3,\"#f1b6da\"],[0.4,\"#fde0ef\"],[0.5,\"#f7f7f7\"],[0.6,\"#e6f5d0\"],[0.7,\"#b8e186\"],[0.8,\"#7fbc41\"],[0.9,\"#4d9221\"],[1,\"#276419\"]]},\"xaxis\":{\"gridcolor\":\"white\",\"linecolor\":\"white\",\"ticks\":\"\",\"title\":{\"standoff\":15},\"zerolinecolor\":\"white\",\"automargin\":true,\"zerolinewidth\":2},\"yaxis\":{\"gridcolor\":\"white\",\"linecolor\":\"white\",\"ticks\":\"\",\"title\":{\"standoff\":15},\"zerolinecolor\":\"white\",\"automargin\":true,\"zerolinewidth\":2},\"scene\":{\"xaxis\":{\"backgroundcolor\":\"#E5ECF6\",\"gridcolor\":\"white\",\"linecolor\":\"white\",\"showbackground\":true,\"ticks\":\"\",\"zerolinecolor\":\"white\",\"gridwidth\":2},\"yaxis\":{\"backgroundcolor\":\"#E5ECF6\",\"gridcolor\":\"white\",\"linecolor\":\"white\",\"showbackground\":true,\"ticks\":\"\",\"zerolinecolor\":\"white\",\"gridwidth\":2},\"zaxis\":{\"backgroundcolor\":\"#E5ECF6\",\"gridcolor\":\"white\",\"linecolor\":\"white\",\"showbackground\":true,\"ticks\":\"\",\"zerolinecolor\":\"white\",\"gridwidth\":2}},\"shapedefaults\":{\"line\":{\"color\":\"#2a3f5f\"}},\"annotationdefaults\":{\"arrowcolor\":\"#2a3f5f\",\"arrowhead\":0,\"arrowwidth\":1},\"geo\":{\"bgcolor\":\"white\",\"landcolor\":\"#E5ECF6\",\"subunitcolor\":\"white\",\"showland\":true,\"showlakes\":true,\"lakecolor\":\"white\"},\"title\":{\"x\":0.05},\"mapbox\":{\"style\":\"light\"}}},\"scene\":{\"dragmode\":\"orbit\",\"xaxis\":{\"visible\":false},\"yaxis\":{\"visible\":false},\"zaxis\":{\"visible\":false}}},                        {\"responsive\": true}                    ).then(function(){\n",
       "                            \n",
       "var gd = document.getElementById('39be87cb-5efe-4243-8e80-f10393823eb3');\n",
       "var x = new MutationObserver(function (mutations, observer) {{\n",
       "        var display = window.getComputedStyle(gd).display;\n",
       "        if (!display || display === 'none') {{\n",
       "            console.log([gd, 'removed!']);\n",
       "            Plotly.purge(gd);\n",
       "            observer.disconnect();\n",
       "        }}\n",
       "}});\n",
       "\n",
       "// Listen for the removal of the full notebook cells\n",
       "var notebookContainer = gd.closest('#notebook-container');\n",
       "if (notebookContainer) {{\n",
       "    x.observe(notebookContainer, {childList: true});\n",
       "}}\n",
       "\n",
       "// Listen for the clearing of the current output cell\n",
       "var outputEl = gd.closest('.output');\n",
       "if (outputEl) {{\n",
       "    x.observe(outputEl, {childList: true});\n",
       "}}\n",
       "\n",
       "                        })                };                });            </script>        </div>"
      ]
     },
     "metadata": {},
     "output_type": "display_data"
    }
   ],
   "source": [
    "# draw molecule using pyplot\n",
    "pdb[4].draw(width=500, height=500)"
   ]
  },
  {
   "cell_type": "code",
   "execution_count": 42,
   "id": "baa4c956-fe52-4e77-98bf-16fc7fe124da",
   "metadata": {},
   "outputs": [
    {
     "data": {
      "text/plain": [
       "NucleicAcidChain with 75 NucleicAcidResidue at 0x7fe6b38972c0"
      ]
     },
     "execution_count": 42,
     "metadata": {},
     "output_type": "execute_result"
    }
   ],
   "source": [
    "chain = pdb[0]\n",
    "chain"
   ]
  },
  {
   "cell_type": "markdown",
   "id": "32619781-c6fa-415f-aefd-c74ca85bf75a",
   "metadata": {},
   "source": [
    "You can check type of nucleic acid (RNA or DNA) and convert it. Naskit will swap ribose on deoxyribose and Uracil on Thymine."
   ]
  },
  {
   "cell_type": "code",
   "execution_count": 43,
   "id": "dff9d68b-b93d-4a72-b6e6-2512d08b93c6",
   "metadata": {},
   "outputs": [
    {
     "name": "stdout",
     "output_type": "stream",
     "text": [
      "GGGCGGCUAGCUCAGCGGAAGAGCGCUCGCCUCACACGCGAGAGGUCGUAGGUUCAAGUCCUACGCCGCCCACCA\n",
      "rna\n"
     ]
    }
   ],
   "source": [
    "print(chain.seq)\n",
    "print(chain[0].natype)"
   ]
  },
  {
   "cell_type": "code",
   "execution_count": 45,
   "id": "0ba7e72a-97be-4901-8c38-04424fe6ad63",
   "metadata": {},
   "outputs": [
    {
     "name": "stdout",
     "output_type": "stream",
     "text": [
      "U\n"
     ]
    },
    {
     "data": {
      "application/vnd.plotly.v1+json": {
       "config": {
        "plotlyServerURL": "https://plot.ly"
       },
       "data": [
        {
         "hoverinfo": "text",
         "hovertext": [
          "P 908 U",
          "OP1 908 U",
          "OP2 908 U",
          "O5' 908 U",
          "C5' 908 U",
          "C4' 908 U",
          "O4' 908 U",
          "C3' 908 U",
          "O3' 908 U",
          "C2' 908 U",
          "O2' 908 U",
          "C1' 908 U",
          "N1 908 U",
          "C2 908 U",
          "O2 908 U",
          "N3 908 U",
          "C4 908 U",
          "O4 908 U",
          "C5 908 U",
          "C6 908 U"
         ],
         "marker": {
          "color": [
           "#DC8BE0",
           "#DE371D",
           "#DE371D",
           "#DE371D",
           "#1D90DE",
           "#1D90DE",
           "#DE371D",
           "#1D90DE",
           "#DE371D",
           "#1D90DE",
           "#DE371D",
           "#1D90DE",
           "#1DDE81",
           "#1D90DE",
           "#DE371D",
           "#1DDE81",
           "#1D90DE",
           "#DE371D",
           "#1D90DE",
           "#1D90DE"
          ],
          "opacity": 1,
          "size": [
           61.86598969503085,
           30.301709238382458,
           30.301709238382458,
           30.301709238382458,
           42.29613581190885,
           42.29613581190885,
           30.301709238382458,
           42.29613581190885,
           30.301709238382458,
           42.29613581190885,
           30.301709238382458,
           42.29613581190885,
           35.3519941114462,
           42.29613581190885,
           30.301709238382458,
           35.3519941114462,
           42.29613581190885,
           30.301709238382458,
           42.29613581190885,
           42.29613581190885
          ]
         },
         "mode": "markers",
         "type": "scatter3d",
         "x": [
          102.13700103759766,
          101.60299682617188,
          101.27300262451172,
          103.51899719238281,
          104.43800354003906,
          104.97000122070312,
          105.83399963378906,
          103.94100189208984,
          103.41899871826172,
          104.78099822998047,
          105.60099792480469,
          105.63899993896484,
          104.9800033569336,
          105.27999877929688,
          106.09300231933594,
          104.59300231933594,
          103.66300201416016,
          103.09400177001953,
          103.4280014038086,
          104.07599639892578
         ],
         "y": [
          65.75599670410156,
          67.08399963378906,
          64.84300231933594,
          66.00499725341797,
          66.98600006103516,
          67.81800079345703,
          67.00700378417969,
          68.39299774169922,
          69.62100219726562,
          68.6050033569336,
          69.74600219726562,
          67.33699798583984,
          66.18299865722656,
          65.88500213623047,
          66.51100158691406,
          64.81199645996094,
          64.0199966430664,
          63.11199951171875,
          64.38099670410156,
          65.4209976196289
         ],
         "z": [
          33.20899963378906,
          33.60300064086914,
          32.4119987487793,
          32.45100021362305,
          32.92300033569336,
          31.774999618530273,
          30.93899917602539,
          30.81800079345703,
          31.31100082397461,
          29.56999969482422,
          29.714000701904297,
          29.57699966430664,
          28.944000244140625,
          27.625999450683594,
          26.9689998626709,
          27.10700035095215,
          27.757999420166016,
          27.143999099731445,
          29.118000030517578,
          29.649999618530273
         ]
        }
       ],
       "layout": {
        "height": 500,
        "scene": {
         "aspectmode": "auto",
         "aspectratio": {
          "x": 0.8081915153830146,
          "y": 1.1123537392013567,
          "z": 1.1123534193874398
         },
         "camera": {
          "center": {
           "x": 0,
           "y": 0,
           "z": 0
          },
          "eye": {
           "x": -1.64711129271369,
           "y": 0.9692525615527691,
           "z": -1.0173857976885832
          },
          "projection": {
           "type": "perspective"
          },
          "up": {
           "x": -0.4190455848218936,
           "y": -0.8916995372751328,
           "z": -0.1710927615786014
          }
         },
         "dragmode": "orbit",
         "xaxis": {
          "type": "linear",
          "visible": false
         },
         "yaxis": {
          "type": "linear",
          "visible": false
         },
         "zaxis": {
          "type": "linear",
          "visible": false
         }
        },
        "template": {
         "data": {
          "bar": [
           {
            "error_x": {
             "color": "#2a3f5f"
            },
            "error_y": {
             "color": "#2a3f5f"
            },
            "marker": {
             "line": {
              "color": "#E5ECF6",
              "width": 0.5
             },
             "pattern": {
              "fillmode": "overlay",
              "size": 10,
              "solidity": 0.2
             }
            },
            "type": "bar"
           }
          ],
          "barpolar": [
           {
            "marker": {
             "line": {
              "color": "#E5ECF6",
              "width": 0.5
             },
             "pattern": {
              "fillmode": "overlay",
              "size": 10,
              "solidity": 0.2
             }
            },
            "type": "barpolar"
           }
          ],
          "carpet": [
           {
            "aaxis": {
             "endlinecolor": "#2a3f5f",
             "gridcolor": "white",
             "linecolor": "white",
             "minorgridcolor": "white",
             "startlinecolor": "#2a3f5f"
            },
            "baxis": {
             "endlinecolor": "#2a3f5f",
             "gridcolor": "white",
             "linecolor": "white",
             "minorgridcolor": "white",
             "startlinecolor": "#2a3f5f"
            },
            "type": "carpet"
           }
          ],
          "choropleth": [
           {
            "colorbar": {
             "outlinewidth": 0,
             "ticks": ""
            },
            "type": "choropleth"
           }
          ],
          "contour": [
           {
            "colorbar": {
             "outlinewidth": 0,
             "ticks": ""
            },
            "colorscale": [
             [
              0,
              "#0d0887"
             ],
             [
              0.1111111111111111,
              "#46039f"
             ],
             [
              0.2222222222222222,
              "#7201a8"
             ],
             [
              0.3333333333333333,
              "#9c179e"
             ],
             [
              0.4444444444444444,
              "#bd3786"
             ],
             [
              0.5555555555555556,
              "#d8576b"
             ],
             [
              0.6666666666666666,
              "#ed7953"
             ],
             [
              0.7777777777777778,
              "#fb9f3a"
             ],
             [
              0.8888888888888888,
              "#fdca26"
             ],
             [
              1,
              "#f0f921"
             ]
            ],
            "type": "contour"
           }
          ],
          "contourcarpet": [
           {
            "colorbar": {
             "outlinewidth": 0,
             "ticks": ""
            },
            "type": "contourcarpet"
           }
          ],
          "heatmap": [
           {
            "colorbar": {
             "outlinewidth": 0,
             "ticks": ""
            },
            "colorscale": [
             [
              0,
              "#0d0887"
             ],
             [
              0.1111111111111111,
              "#46039f"
             ],
             [
              0.2222222222222222,
              "#7201a8"
             ],
             [
              0.3333333333333333,
              "#9c179e"
             ],
             [
              0.4444444444444444,
              "#bd3786"
             ],
             [
              0.5555555555555556,
              "#d8576b"
             ],
             [
              0.6666666666666666,
              "#ed7953"
             ],
             [
              0.7777777777777778,
              "#fb9f3a"
             ],
             [
              0.8888888888888888,
              "#fdca26"
             ],
             [
              1,
              "#f0f921"
             ]
            ],
            "type": "heatmap"
           }
          ],
          "heatmapgl": [
           {
            "colorbar": {
             "outlinewidth": 0,
             "ticks": ""
            },
            "colorscale": [
             [
              0,
              "#0d0887"
             ],
             [
              0.1111111111111111,
              "#46039f"
             ],
             [
              0.2222222222222222,
              "#7201a8"
             ],
             [
              0.3333333333333333,
              "#9c179e"
             ],
             [
              0.4444444444444444,
              "#bd3786"
             ],
             [
              0.5555555555555556,
              "#d8576b"
             ],
             [
              0.6666666666666666,
              "#ed7953"
             ],
             [
              0.7777777777777778,
              "#fb9f3a"
             ],
             [
              0.8888888888888888,
              "#fdca26"
             ],
             [
              1,
              "#f0f921"
             ]
            ],
            "type": "heatmapgl"
           }
          ],
          "histogram": [
           {
            "marker": {
             "pattern": {
              "fillmode": "overlay",
              "size": 10,
              "solidity": 0.2
             }
            },
            "type": "histogram"
           }
          ],
          "histogram2d": [
           {
            "colorbar": {
             "outlinewidth": 0,
             "ticks": ""
            },
            "colorscale": [
             [
              0,
              "#0d0887"
             ],
             [
              0.1111111111111111,
              "#46039f"
             ],
             [
              0.2222222222222222,
              "#7201a8"
             ],
             [
              0.3333333333333333,
              "#9c179e"
             ],
             [
              0.4444444444444444,
              "#bd3786"
             ],
             [
              0.5555555555555556,
              "#d8576b"
             ],
             [
              0.6666666666666666,
              "#ed7953"
             ],
             [
              0.7777777777777778,
              "#fb9f3a"
             ],
             [
              0.8888888888888888,
              "#fdca26"
             ],
             [
              1,
              "#f0f921"
             ]
            ],
            "type": "histogram2d"
           }
          ],
          "histogram2dcontour": [
           {
            "colorbar": {
             "outlinewidth": 0,
             "ticks": ""
            },
            "colorscale": [
             [
              0,
              "#0d0887"
             ],
             [
              0.1111111111111111,
              "#46039f"
             ],
             [
              0.2222222222222222,
              "#7201a8"
             ],
             [
              0.3333333333333333,
              "#9c179e"
             ],
             [
              0.4444444444444444,
              "#bd3786"
             ],
             [
              0.5555555555555556,
              "#d8576b"
             ],
             [
              0.6666666666666666,
              "#ed7953"
             ],
             [
              0.7777777777777778,
              "#fb9f3a"
             ],
             [
              0.8888888888888888,
              "#fdca26"
             ],
             [
              1,
              "#f0f921"
             ]
            ],
            "type": "histogram2dcontour"
           }
          ],
          "mesh3d": [
           {
            "colorbar": {
             "outlinewidth": 0,
             "ticks": ""
            },
            "type": "mesh3d"
           }
          ],
          "parcoords": [
           {
            "line": {
             "colorbar": {
              "outlinewidth": 0,
              "ticks": ""
             }
            },
            "type": "parcoords"
           }
          ],
          "pie": [
           {
            "automargin": true,
            "type": "pie"
           }
          ],
          "scatter": [
           {
            "fillpattern": {
             "fillmode": "overlay",
             "size": 10,
             "solidity": 0.2
            },
            "type": "scatter"
           }
          ],
          "scatter3d": [
           {
            "line": {
             "colorbar": {
              "outlinewidth": 0,
              "ticks": ""
             }
            },
            "marker": {
             "colorbar": {
              "outlinewidth": 0,
              "ticks": ""
             }
            },
            "type": "scatter3d"
           }
          ],
          "scattercarpet": [
           {
            "marker": {
             "colorbar": {
              "outlinewidth": 0,
              "ticks": ""
             }
            },
            "type": "scattercarpet"
           }
          ],
          "scattergeo": [
           {
            "marker": {
             "colorbar": {
              "outlinewidth": 0,
              "ticks": ""
             }
            },
            "type": "scattergeo"
           }
          ],
          "scattergl": [
           {
            "marker": {
             "colorbar": {
              "outlinewidth": 0,
              "ticks": ""
             }
            },
            "type": "scattergl"
           }
          ],
          "scattermapbox": [
           {
            "marker": {
             "colorbar": {
              "outlinewidth": 0,
              "ticks": ""
             }
            },
            "type": "scattermapbox"
           }
          ],
          "scatterpolar": [
           {
            "marker": {
             "colorbar": {
              "outlinewidth": 0,
              "ticks": ""
             }
            },
            "type": "scatterpolar"
           }
          ],
          "scatterpolargl": [
           {
            "marker": {
             "colorbar": {
              "outlinewidth": 0,
              "ticks": ""
             }
            },
            "type": "scatterpolargl"
           }
          ],
          "scatterternary": [
           {
            "marker": {
             "colorbar": {
              "outlinewidth": 0,
              "ticks": ""
             }
            },
            "type": "scatterternary"
           }
          ],
          "surface": [
           {
            "colorbar": {
             "outlinewidth": 0,
             "ticks": ""
            },
            "colorscale": [
             [
              0,
              "#0d0887"
             ],
             [
              0.1111111111111111,
              "#46039f"
             ],
             [
              0.2222222222222222,
              "#7201a8"
             ],
             [
              0.3333333333333333,
              "#9c179e"
             ],
             [
              0.4444444444444444,
              "#bd3786"
             ],
             [
              0.5555555555555556,
              "#d8576b"
             ],
             [
              0.6666666666666666,
              "#ed7953"
             ],
             [
              0.7777777777777778,
              "#fb9f3a"
             ],
             [
              0.8888888888888888,
              "#fdca26"
             ],
             [
              1,
              "#f0f921"
             ]
            ],
            "type": "surface"
           }
          ],
          "table": [
           {
            "cells": {
             "fill": {
              "color": "#EBF0F8"
             },
             "line": {
              "color": "white"
             }
            },
            "header": {
             "fill": {
              "color": "#C8D4E3"
             },
             "line": {
              "color": "white"
             }
            },
            "type": "table"
           }
          ]
         },
         "layout": {
          "annotationdefaults": {
           "arrowcolor": "#2a3f5f",
           "arrowhead": 0,
           "arrowwidth": 1
          },
          "autotypenumbers": "strict",
          "coloraxis": {
           "colorbar": {
            "outlinewidth": 0,
            "ticks": ""
           }
          },
          "colorscale": {
           "diverging": [
            [
             0,
             "#8e0152"
            ],
            [
             0.1,
             "#c51b7d"
            ],
            [
             0.2,
             "#de77ae"
            ],
            [
             0.3,
             "#f1b6da"
            ],
            [
             0.4,
             "#fde0ef"
            ],
            [
             0.5,
             "#f7f7f7"
            ],
            [
             0.6,
             "#e6f5d0"
            ],
            [
             0.7,
             "#b8e186"
            ],
            [
             0.8,
             "#7fbc41"
            ],
            [
             0.9,
             "#4d9221"
            ],
            [
             1,
             "#276419"
            ]
           ],
           "sequential": [
            [
             0,
             "#0d0887"
            ],
            [
             0.1111111111111111,
             "#46039f"
            ],
            [
             0.2222222222222222,
             "#7201a8"
            ],
            [
             0.3333333333333333,
             "#9c179e"
            ],
            [
             0.4444444444444444,
             "#bd3786"
            ],
            [
             0.5555555555555556,
             "#d8576b"
            ],
            [
             0.6666666666666666,
             "#ed7953"
            ],
            [
             0.7777777777777778,
             "#fb9f3a"
            ],
            [
             0.8888888888888888,
             "#fdca26"
            ],
            [
             1,
             "#f0f921"
            ]
           ],
           "sequentialminus": [
            [
             0,
             "#0d0887"
            ],
            [
             0.1111111111111111,
             "#46039f"
            ],
            [
             0.2222222222222222,
             "#7201a8"
            ],
            [
             0.3333333333333333,
             "#9c179e"
            ],
            [
             0.4444444444444444,
             "#bd3786"
            ],
            [
             0.5555555555555556,
             "#d8576b"
            ],
            [
             0.6666666666666666,
             "#ed7953"
            ],
            [
             0.7777777777777778,
             "#fb9f3a"
            ],
            [
             0.8888888888888888,
             "#fdca26"
            ],
            [
             1,
             "#f0f921"
            ]
           ]
          },
          "colorway": [
           "#636efa",
           "#EF553B",
           "#00cc96",
           "#ab63fa",
           "#FFA15A",
           "#19d3f3",
           "#FF6692",
           "#B6E880",
           "#FF97FF",
           "#FECB52"
          ],
          "font": {
           "color": "#2a3f5f"
          },
          "geo": {
           "bgcolor": "white",
           "lakecolor": "white",
           "landcolor": "#E5ECF6",
           "showlakes": true,
           "showland": true,
           "subunitcolor": "white"
          },
          "hoverlabel": {
           "align": "left"
          },
          "hovermode": "closest",
          "mapbox": {
           "style": "light"
          },
          "paper_bgcolor": "white",
          "plot_bgcolor": "#E5ECF6",
          "polar": {
           "angularaxis": {
            "gridcolor": "white",
            "linecolor": "white",
            "ticks": ""
           },
           "bgcolor": "#E5ECF6",
           "radialaxis": {
            "gridcolor": "white",
            "linecolor": "white",
            "ticks": ""
           }
          },
          "scene": {
           "xaxis": {
            "backgroundcolor": "#E5ECF6",
            "gridcolor": "white",
            "gridwidth": 2,
            "linecolor": "white",
            "showbackground": true,
            "ticks": "",
            "zerolinecolor": "white"
           },
           "yaxis": {
            "backgroundcolor": "#E5ECF6",
            "gridcolor": "white",
            "gridwidth": 2,
            "linecolor": "white",
            "showbackground": true,
            "ticks": "",
            "zerolinecolor": "white"
           },
           "zaxis": {
            "backgroundcolor": "#E5ECF6",
            "gridcolor": "white",
            "gridwidth": 2,
            "linecolor": "white",
            "showbackground": true,
            "ticks": "",
            "zerolinecolor": "white"
           }
          },
          "shapedefaults": {
           "line": {
            "color": "#2a3f5f"
           }
          },
          "ternary": {
           "aaxis": {
            "gridcolor": "white",
            "linecolor": "white",
            "ticks": ""
           },
           "baxis": {
            "gridcolor": "white",
            "linecolor": "white",
            "ticks": ""
           },
           "bgcolor": "#E5ECF6",
           "caxis": {
            "gridcolor": "white",
            "linecolor": "white",
            "ticks": ""
           }
          },
          "title": {
           "x": 0.05
          },
          "xaxis": {
           "automargin": true,
           "gridcolor": "white",
           "linecolor": "white",
           "ticks": "",
           "title": {
            "standoff": 15
           },
           "zerolinecolor": "white",
           "zerolinewidth": 2
          },
          "yaxis": {
           "automargin": true,
           "gridcolor": "white",
           "linecolor": "white",
           "ticks": "",
           "title": {
            "standoff": 15
           },
           "zerolinecolor": "white",
           "zerolinewidth": 2
          }
         }
        },
        "width": 500
       }
      },
      "image/png": "[encoded data removed]",
      "text/html": [
       "<div>                            <div id=\"364ddd7e-e495-4ae7-af24-1322c4ccb054\" class=\"plotly-graph-div\" style=\"height:500px; width:500px;\"></div>            <script type=\"text/javascript\">                require([\"plotly\"], function(Plotly) {                    window.PLOTLYENV=window.PLOTLYENV || {};                                    if (document.getElementById(\"364ddd7e-e495-4ae7-af24-1322c4ccb054\")) {                    Plotly.newPlot(                        \"364ddd7e-e495-4ae7-af24-1322c4ccb054\",                        [{\"hoverinfo\":\"text\",\"hovertext\":[\"P 908 U\",\"OP1 908 U\",\"OP2 908 U\",\"O5' 908 U\",\"C5' 908 U\",\"C4' 908 U\",\"O4' 908 U\",\"C3' 908 U\",\"O3' 908 U\",\"C2' 908 U\",\"O2' 908 U\",\"C1' 908 U\",\"N1 908 U\",\"C2 908 U\",\"O2 908 U\",\"N3 908 U\",\"C4 908 U\",\"O4 908 U\",\"C5 908 U\",\"C6 908 U\"],\"marker\":{\"color\":[\"#DC8BE0\",\"#DE371D\",\"#DE371D\",\"#DE371D\",\"#1D90DE\",\"#1D90DE\",\"#DE371D\",\"#1D90DE\",\"#DE371D\",\"#1D90DE\",\"#DE371D\",\"#1D90DE\",\"#1DDE81\",\"#1D90DE\",\"#DE371D\",\"#1DDE81\",\"#1D90DE\",\"#DE371D\",\"#1D90DE\",\"#1D90DE\"],\"opacity\":1.0,\"size\":[61.86598969503085,30.301709238382458,30.301709238382458,30.301709238382458,42.29613581190885,42.29613581190885,30.301709238382458,42.29613581190885,30.301709238382458,42.29613581190885,30.301709238382458,42.29613581190885,35.3519941114462,42.29613581190885,30.301709238382458,35.3519941114462,42.29613581190885,30.301709238382458,42.29613581190885,42.29613581190885]},\"mode\":\"markers\",\"x\":[102.13700103759766,101.60299682617188,101.27300262451172,103.51899719238281,104.43800354003906,104.97000122070312,105.83399963378906,103.94100189208984,103.41899871826172,104.78099822998047,105.60099792480469,105.63899993896484,104.9800033569336,105.27999877929688,106.09300231933594,104.59300231933594,103.66300201416016,103.09400177001953,103.4280014038086,104.07599639892578],\"y\":[65.75599670410156,67.08399963378906,64.84300231933594,66.00499725341797,66.98600006103516,67.81800079345703,67.00700378417969,68.39299774169922,69.62100219726562,68.6050033569336,69.74600219726562,67.33699798583984,66.18299865722656,65.88500213623047,66.51100158691406,64.81199645996094,64.0199966430664,63.11199951171875,64.38099670410156,65.4209976196289],\"z\":[33.20899963378906,33.60300064086914,32.4119987487793,32.45100021362305,32.92300033569336,31.774999618530273,30.93899917602539,30.81800079345703,31.31100082397461,29.56999969482422,29.714000701904297,29.57699966430664,28.944000244140625,27.625999450683594,26.9689998626709,27.10700035095215,27.757999420166016,27.143999099731445,29.118000030517578,29.649999618530273],\"type\":\"scatter3d\"}],                        {\"height\":500,\"width\":500,\"template\":{\"data\":{\"histogram2dcontour\":[{\"type\":\"histogram2dcontour\",\"colorbar\":{\"outlinewidth\":0,\"ticks\":\"\"},\"colorscale\":[[0.0,\"#0d0887\"],[0.1111111111111111,\"#46039f\"],[0.2222222222222222,\"#7201a8\"],[0.3333333333333333,\"#9c179e\"],[0.4444444444444444,\"#bd3786\"],[0.5555555555555556,\"#d8576b\"],[0.6666666666666666,\"#ed7953\"],[0.7777777777777778,\"#fb9f3a\"],[0.8888888888888888,\"#fdca26\"],[1.0,\"#f0f921\"]]}],\"choropleth\":[{\"type\":\"choropleth\",\"colorbar\":{\"outlinewidth\":0,\"ticks\":\"\"}}],\"histogram2d\":[{\"type\":\"histogram2d\",\"colorbar\":{\"outlinewidth\":0,\"ticks\":\"\"},\"colorscale\":[[0.0,\"#0d0887\"],[0.1111111111111111,\"#46039f\"],[0.2222222222222222,\"#7201a8\"],[0.3333333333333333,\"#9c179e\"],[0.4444444444444444,\"#bd3786\"],[0.5555555555555556,\"#d8576b\"],[0.6666666666666666,\"#ed7953\"],[0.7777777777777778,\"#fb9f3a\"],[0.8888888888888888,\"#fdca26\"],[1.0,\"#f0f921\"]]}],\"heatmap\":[{\"type\":\"heatmap\",\"colorbar\":{\"outlinewidth\":0,\"ticks\":\"\"},\"colorscale\":[[0.0,\"#0d0887\"],[0.1111111111111111,\"#46039f\"],[0.2222222222222222,\"#7201a8\"],[0.3333333333333333,\"#9c179e\"],[0.4444444444444444,\"#bd3786\"],[0.5555555555555556,\"#d8576b\"],[0.6666666666666666,\"#ed7953\"],[0.7777777777777778,\"#fb9f3a\"],[0.8888888888888888,\"#fdca26\"],[1.0,\"#f0f921\"]]}],\"heatmapgl\":[{\"type\":\"heatmapgl\",\"colorbar\":{\"outlinewidth\":0,\"ticks\":\"\"},\"colorscale\":[[0.0,\"#0d0887\"],[0.1111111111111111,\"#46039f\"],[0.2222222222222222,\"#7201a8\"],[0.3333333333333333,\"#9c179e\"],[0.4444444444444444,\"#bd3786\"],[0.5555555555555556,\"#d8576b\"],[0.6666666666666666,\"#ed7953\"],[0.7777777777777778,\"#fb9f3a\"],[0.8888888888888888,\"#fdca26\"],[1.0,\"#f0f921\"]]}],\"contourcarpet\":[{\"type\":\"contourcarpet\",\"colorbar\":{\"outlinewidth\":0,\"ticks\":\"\"}}],\"contour\":[{\"type\":\"contour\",\"colorbar\":{\"outlinewidth\":0,\"ticks\":\"\"},\"colorscale\":[[0.0,\"#0d0887\"],[0.1111111111111111,\"#46039f\"],[0.2222222222222222,\"#7201a8\"],[0.3333333333333333,\"#9c179e\"],[0.4444444444444444,\"#bd3786\"],[0.5555555555555556,\"#d8576b\"],[0.6666666666666666,\"#ed7953\"],[0.7777777777777778,\"#fb9f3a\"],[0.8888888888888888,\"#fdca26\"],[1.0,\"#f0f921\"]]}],\"surface\":[{\"type\":\"surface\",\"colorbar\":{\"outlinewidth\":0,\"ticks\":\"\"},\"colorscale\":[[0.0,\"#0d0887\"],[0.1111111111111111,\"#46039f\"],[0.2222222222222222,\"#7201a8\"],[0.3333333333333333,\"#9c179e\"],[0.4444444444444444,\"#bd3786\"],[0.5555555555555556,\"#d8576b\"],[0.6666666666666666,\"#ed7953\"],[0.7777777777777778,\"#fb9f3a\"],[0.8888888888888888,\"#fdca26\"],[1.0,\"#f0f921\"]]}],\"mesh3d\":[{\"type\":\"mesh3d\",\"colorbar\":{\"outlinewidth\":0,\"ticks\":\"\"}}],\"scatter\":[{\"fillpattern\":{\"fillmode\":\"overlay\",\"size\":10,\"solidity\":0.2},\"type\":\"scatter\"}],\"parcoords\":[{\"type\":\"parcoords\",\"line\":{\"colorbar\":{\"outlinewidth\":0,\"ticks\":\"\"}}}],\"scatterpolargl\":[{\"type\":\"scatterpolargl\",\"marker\":{\"colorbar\":{\"outlinewidth\":0,\"ticks\":\"\"}}}],\"bar\":[{\"error_x\":{\"color\":\"#2a3f5f\"},\"error_y\":{\"color\":\"#2a3f5f\"},\"marker\":{\"line\":{\"color\":\"#E5ECF6\",\"width\":0.5},\"pattern\":{\"fillmode\":\"overlay\",\"size\":10,\"solidity\":0.2}},\"type\":\"bar\"}],\"scattergeo\":[{\"type\":\"scattergeo\",\"marker\":{\"colorbar\":{\"outlinewidth\":0,\"ticks\":\"\"}}}],\"scatterpolar\":[{\"type\":\"scatterpolar\",\"marker\":{\"colorbar\":{\"outlinewidth\":0,\"ticks\":\"\"}}}],\"histogram\":[{\"marker\":{\"pattern\":{\"fillmode\":\"overlay\",\"size\":10,\"solidity\":0.2}},\"type\":\"histogram\"}],\"scattergl\":[{\"type\":\"scattergl\",\"marker\":{\"colorbar\":{\"outlinewidth\":0,\"ticks\":\"\"}}}],\"scatter3d\":[{\"type\":\"scatter3d\",\"line\":{\"colorbar\":{\"outlinewidth\":0,\"ticks\":\"\"}},\"marker\":{\"colorbar\":{\"outlinewidth\":0,\"ticks\":\"\"}}}],\"scattermapbox\":[{\"type\":\"scattermapbox\",\"marker\":{\"colorbar\":{\"outlinewidth\":0,\"ticks\":\"\"}}}],\"scatterternary\":[{\"type\":\"scatterternary\",\"marker\":{\"colorbar\":{\"outlinewidth\":0,\"ticks\":\"\"}}}],\"scattercarpet\":[{\"type\":\"scattercarpet\",\"marker\":{\"colorbar\":{\"outlinewidth\":0,\"ticks\":\"\"}}}],\"carpet\":[{\"aaxis\":{\"endlinecolor\":\"#2a3f5f\",\"gridcolor\":\"white\",\"linecolor\":\"white\",\"minorgridcolor\":\"white\",\"startlinecolor\":\"#2a3f5f\"},\"baxis\":{\"endlinecolor\":\"#2a3f5f\",\"gridcolor\":\"white\",\"linecolor\":\"white\",\"minorgridcolor\":\"white\",\"startlinecolor\":\"#2a3f5f\"},\"type\":\"carpet\"}],\"table\":[{\"cells\":{\"fill\":{\"color\":\"#EBF0F8\"},\"line\":{\"color\":\"white\"}},\"header\":{\"fill\":{\"color\":\"#C8D4E3\"},\"line\":{\"color\":\"white\"}},\"type\":\"table\"}],\"barpolar\":[{\"marker\":{\"line\":{\"color\":\"#E5ECF6\",\"width\":0.5},\"pattern\":{\"fillmode\":\"overlay\",\"size\":10,\"solidity\":0.2}},\"type\":\"barpolar\"}],\"pie\":[{\"automargin\":true,\"type\":\"pie\"}]},\"layout\":{\"autotypenumbers\":\"strict\",\"colorway\":[\"#636efa\",\"#EF553B\",\"#00cc96\",\"#ab63fa\",\"#FFA15A\",\"#19d3f3\",\"#FF6692\",\"#B6E880\",\"#FF97FF\",\"#FECB52\"],\"font\":{\"color\":\"#2a3f5f\"},\"hovermode\":\"closest\",\"hoverlabel\":{\"align\":\"left\"},\"paper_bgcolor\":\"white\",\"plot_bgcolor\":\"#E5ECF6\",\"polar\":{\"bgcolor\":\"#E5ECF6\",\"angularaxis\":{\"gridcolor\":\"white\",\"linecolor\":\"white\",\"ticks\":\"\"},\"radialaxis\":{\"gridcolor\":\"white\",\"linecolor\":\"white\",\"ticks\":\"\"}},\"ternary\":{\"bgcolor\":\"#E5ECF6\",\"aaxis\":{\"gridcolor\":\"white\",\"linecolor\":\"white\",\"ticks\":\"\"},\"baxis\":{\"gridcolor\":\"white\",\"linecolor\":\"white\",\"ticks\":\"\"},\"caxis\":{\"gridcolor\":\"white\",\"linecolor\":\"white\",\"ticks\":\"\"}},\"coloraxis\":{\"colorbar\":{\"outlinewidth\":0,\"ticks\":\"\"}},\"colorscale\":{\"sequential\":[[0.0,\"#0d0887\"],[0.1111111111111111,\"#46039f\"],[0.2222222222222222,\"#7201a8\"],[0.3333333333333333,\"#9c179e\"],[0.4444444444444444,\"#bd3786\"],[0.5555555555555556,\"#d8576b\"],[0.6666666666666666,\"#ed7953\"],[0.7777777777777778,\"#fb9f3a\"],[0.8888888888888888,\"#fdca26\"],[1.0,\"#f0f921\"]],\"sequentialminus\":[[0.0,\"#0d0887\"],[0.1111111111111111,\"#46039f\"],[0.2222222222222222,\"#7201a8\"],[0.3333333333333333,\"#9c179e\"],[0.4444444444444444,\"#bd3786\"],[0.5555555555555556,\"#d8576b\"],[0.6666666666666666,\"#ed7953\"],[0.7777777777777778,\"#fb9f3a\"],[0.8888888888888888,\"#fdca26\"],[1.0,\"#f0f921\"]],\"diverging\":[[0,\"#8e0152\"],[0.1,\"#c51b7d\"],[0.2,\"#de77ae\"],[0.3,\"#f1b6da\"],[0.4,\"#fde0ef\"],[0.5,\"#f7f7f7\"],[0.6,\"#e6f5d0\"],[0.7,\"#b8e186\"],[0.8,\"#7fbc41\"],[0.9,\"#4d9221\"],[1,\"#276419\"]]},\"xaxis\":{\"gridcolor\":\"white\",\"linecolor\":\"white\",\"ticks\":\"\",\"title\":{\"standoff\":15},\"zerolinecolor\":\"white\",\"automargin\":true,\"zerolinewidth\":2},\"yaxis\":{\"gridcolor\":\"white\",\"linecolor\":\"white\",\"ticks\":\"\",\"title\":{\"standoff\":15},\"zerolinecolor\":\"white\",\"automargin\":true,\"zerolinewidth\":2},\"scene\":{\"xaxis\":{\"backgroundcolor\":\"#E5ECF6\",\"gridcolor\":\"white\",\"linecolor\":\"white\",\"showbackground\":true,\"ticks\":\"\",\"zerolinecolor\":\"white\",\"gridwidth\":2},\"yaxis\":{\"backgroundcolor\":\"#E5ECF6\",\"gridcolor\":\"white\",\"linecolor\":\"white\",\"showbackground\":true,\"ticks\":\"\",\"zerolinecolor\":\"white\",\"gridwidth\":2},\"zaxis\":{\"backgroundcolor\":\"#E5ECF6\",\"gridcolor\":\"white\",\"linecolor\":\"white\",\"showbackground\":true,\"ticks\":\"\",\"zerolinecolor\":\"white\",\"gridwidth\":2}},\"shapedefaults\":{\"line\":{\"color\":\"#2a3f5f\"}},\"annotationdefaults\":{\"arrowcolor\":\"#2a3f5f\",\"arrowhead\":0,\"arrowwidth\":1},\"geo\":{\"bgcolor\":\"white\",\"landcolor\":\"#E5ECF6\",\"subunitcolor\":\"white\",\"showland\":true,\"showlakes\":true,\"lakecolor\":\"white\"},\"title\":{\"x\":0.05},\"mapbox\":{\"style\":\"light\"}}},\"scene\":{\"dragmode\":\"orbit\",\"xaxis\":{\"visible\":false},\"yaxis\":{\"visible\":false},\"zaxis\":{\"visible\":false}}},                        {\"responsive\": true}                    ).then(function(){\n",
       "                            \n",
       "var gd = document.getElementById('364ddd7e-e495-4ae7-af24-1322c4ccb054');\n",
       "var x = new MutationObserver(function (mutations, observer) {{\n",
       "        var display = window.getComputedStyle(gd).display;\n",
       "        if (!display || display === 'none') {{\n",
       "            console.log([gd, 'removed!']);\n",
       "            Plotly.purge(gd);\n",
       "            observer.disconnect();\n",
       "        }}\n",
       "}});\n",
       "\n",
       "// Listen for the removal of the full notebook cells\n",
       "var notebookContainer = gd.closest('#notebook-container');\n",
       "if (notebookContainer) {{\n",
       "    x.observe(notebookContainer, {childList: true});\n",
       "}}\n",
       "\n",
       "// Listen for the clearing of the current output cell\n",
       "var outputEl = gd.closest('.output');\n",
       "if (outputEl) {{\n",
       "    x.observe(outputEl, {childList: true});\n",
       "}}\n",
       "\n",
       "                        })                };                });            </script>        </div>"
      ]
     },
     "metadata": {},
     "output_type": "display_data"
    }
   ],
   "source": [
    "print(chain[7].name)\n",
    "chain[7].draw(width=500, height=500)"
   ]
  },
  {
   "cell_type": "code",
   "execution_count": 47,
   "id": "3a5f459d-482a-4a7c-9ddc-8c38a6262d93",
   "metadata": {},
   "outputs": [],
   "source": [
    "chain.to_dna() # or .to_rna()"
   ]
  },
  {
   "cell_type": "code",
   "execution_count": 48,
   "id": "00f211ab-eadc-40f9-b214-9c7b9be1bbc4",
   "metadata": {},
   "outputs": [
    {
     "name": "stdout",
     "output_type": "stream",
     "text": [
      "GGGCGGCTAGCTCAGCGGAAGAGCGCTCGCCTCACACGCGAGAGGTCGTAGGTTCAAGTCCTACGCCGCCCACCA\n",
      "dna\n"
     ]
    }
   ],
   "source": [
    "print(chain.seq)\n",
    "print(chain[0].natype)"
   ]
  },
  {
   "cell_type": "code",
   "execution_count": 49,
   "id": "d4d85327-3752-4ee3-9dd9-fc8e323da0a7",
   "metadata": {},
   "outputs": [
    {
     "name": "stdout",
     "output_type": "stream",
     "text": [
      "DT\n"
     ]
    },
    {
     "data": {
      "application/vnd.plotly.v1+json": {
       "config": {
        "plotlyServerURL": "https://plot.ly"
       },
       "data": [
        {
         "hoverinfo": "text",
         "hovertext": [
          "P 908 DT",
          "OP1 908 DT",
          "OP2 908 DT",
          "O5' 908 DT",
          "C5' 908 DT",
          "C4' 908 DT",
          "O4' 908 DT",
          "C3' 908 DT",
          "O3' 908 DT",
          "C2' 908 DT",
          "C1' 908 DT",
          "N1 908 DT",
          "C2 908 DT",
          "N3 908 DT",
          "C4 908 DT",
          "C5 908 DT",
          "C6 908 DT",
          "O2 908 DT",
          "O4 908 DT",
          "C7 908 DT"
         ],
         "marker": {
          "color": [
           "#DC8BE0",
           "#DE371D",
           "#DE371D",
           "#DE371D",
           "#1D90DE",
           "#1D90DE",
           "#DE371D",
           "#1D90DE",
           "#DE371D",
           "#1D90DE",
           "#1D90DE",
           "#1DDE81",
           "#1D90DE",
           "#1DDE81",
           "#1D90DE",
           "#1D90DE",
           "#1D90DE",
           "#DE371D",
           "#DE371D",
           "#1D90DE"
          ],
          "opacity": 1,
          "size": [
           61.86598969503085,
           30.301709238382458,
           30.301709238382458,
           30.301709238382458,
           42.29613581190885,
           42.29613581190885,
           30.301709238382458,
           42.29613581190885,
           30.301709238382458,
           42.29613581190885,
           42.29613581190885,
           35.3519941114462,
           42.29613581190885,
           35.3519941114462,
           42.29613581190885,
           42.29613581190885,
           42.29613581190885,
           30.301709238382458,
           30.301709238382458,
           42.29613581190885
          ]
         },
         "mode": "markers",
         "type": "scatter3d",
         "x": [
          102.13700103759766,
          101.60299682617188,
          101.27300262451172,
          103.51899719238281,
          104.43800354003906,
          104.97429656982422,
          105.8419189453125,
          103.97711944580078,
          104.35127258300781,
          104.12910461425781,
          105.62677001953125,
          104.9800033569336,
          105.25869750976562,
          104.56595611572266,
          103.69097137451172,
          103.42317199707031,
          104.05231475830078,
          106.0941162109375,
          103.23675537109375,
          102.44769287109375
         ],
         "y": [
          65.75599670410156,
          67.08399963378906,
          64.84300231933594,
          66.00499725341797,
          66.98600006103516,
          67.81608581542969,
          66.99761199951172,
          68.48944091796875,
          69.81849670410156,
          67.66386413574219,
          67.34831237792969,
          66.18299865722656,
          65.86397552490234,
          64.80577087402344,
          63.9843635559082,
          64.38185119628906,
          65.45643615722656,
          66.46102142333984,
          62.99034118652344,
          63.57633590698242
         ],
         "z": [
          33.20899963378906,
          33.60300064086914,
          32.4119987487793,
          32.45100021362305,
          32.92300033569336,
          31.74851417541504,
          30.95193862915039,
          30.78504180908203,
          30.465219497680664,
          29.51990509033203,
          29.590545654296875,
          28.944000244140625,
          27.606224060058594,
          27.058521270751953,
          27.737085342407227,
          29.117511749267578,
          29.665607452392578,
          26.922494888305664,
          27.170793533325195,
          29.958049774169922
         ]
        }
       ],
       "layout": {
        "height": 500,
        "scene": {
         "aspectmode": "auto",
         "aspectratio": {
          "x": 0.7987189596924964,
          "y": 1.1312277078420452,
          "z": 1.1067664159439692
         },
         "camera": {
          "center": {
           "x": 0,
           "y": 0,
           "z": 0
          },
          "eye": {
           "x": -1.917766557848118,
           "y": 0.7521407955085022,
           "z": -0.6662999724832791
          },
          "projection": {
           "type": "perspective"
          },
          "up": {
           "x": -0.3656567154242474,
           "y": -0.93074807191812,
           "z": 0.0017869207742436943
          }
         },
         "dragmode": "orbit",
         "xaxis": {
          "type": "linear",
          "visible": false
         },
         "yaxis": {
          "type": "linear",
          "visible": false
         },
         "zaxis": {
          "type": "linear",
          "visible": false
         }
        },
        "template": {
         "data": {
          "bar": [
           {
            "error_x": {
             "color": "#2a3f5f"
            },
            "error_y": {
             "color": "#2a3f5f"
            },
            "marker": {
             "line": {
              "color": "#E5ECF6",
              "width": 0.5
             },
             "pattern": {
              "fillmode": "overlay",
              "size": 10,
              "solidity": 0.2
             }
            },
            "type": "bar"
           }
          ],
          "barpolar": [
           {
            "marker": {
             "line": {
              "color": "#E5ECF6",
              "width": 0.5
             },
             "pattern": {
              "fillmode": "overlay",
              "size": 10,
              "solidity": 0.2
             }
            },
            "type": "barpolar"
           }
          ],
          "carpet": [
           {
            "aaxis": {
             "endlinecolor": "#2a3f5f",
             "gridcolor": "white",
             "linecolor": "white",
             "minorgridcolor": "white",
             "startlinecolor": "#2a3f5f"
            },
            "baxis": {
             "endlinecolor": "#2a3f5f",
             "gridcolor": "white",
             "linecolor": "white",
             "minorgridcolor": "white",
             "startlinecolor": "#2a3f5f"
            },
            "type": "carpet"
           }
          ],
          "choropleth": [
           {
            "colorbar": {
             "outlinewidth": 0,
             "ticks": ""
            },
            "type": "choropleth"
           }
          ],
          "contour": [
           {
            "colorbar": {
             "outlinewidth": 0,
             "ticks": ""
            },
            "colorscale": [
             [
              0,
              "#0d0887"
             ],
             [
              0.1111111111111111,
              "#46039f"
             ],
             [
              0.2222222222222222,
              "#7201a8"
             ],
             [
              0.3333333333333333,
              "#9c179e"
             ],
             [
              0.4444444444444444,
              "#bd3786"
             ],
             [
              0.5555555555555556,
              "#d8576b"
             ],
             [
              0.6666666666666666,
              "#ed7953"
             ],
             [
              0.7777777777777778,
              "#fb9f3a"
             ],
             [
              0.8888888888888888,
              "#fdca26"
             ],
             [
              1,
              "#f0f921"
             ]
            ],
            "type": "contour"
           }
          ],
          "contourcarpet": [
           {
            "colorbar": {
             "outlinewidth": 0,
             "ticks": ""
            },
            "type": "contourcarpet"
           }
          ],
          "heatmap": [
           {
            "colorbar": {
             "outlinewidth": 0,
             "ticks": ""
            },
            "colorscale": [
             [
              0,
              "#0d0887"
             ],
             [
              0.1111111111111111,
              "#46039f"
             ],
             [
              0.2222222222222222,
              "#7201a8"
             ],
             [
              0.3333333333333333,
              "#9c179e"
             ],
             [
              0.4444444444444444,
              "#bd3786"
             ],
             [
              0.5555555555555556,
              "#d8576b"
             ],
             [
              0.6666666666666666,
              "#ed7953"
             ],
             [
              0.7777777777777778,
              "#fb9f3a"
             ],
             [
              0.8888888888888888,
              "#fdca26"
             ],
             [
              1,
              "#f0f921"
             ]
            ],
            "type": "heatmap"
           }
          ],
          "heatmapgl": [
           {
            "colorbar": {
             "outlinewidth": 0,
             "ticks": ""
            },
            "colorscale": [
             [
              0,
              "#0d0887"
             ],
             [
              0.1111111111111111,
              "#46039f"
             ],
             [
              0.2222222222222222,
              "#7201a8"
             ],
             [
              0.3333333333333333,
              "#9c179e"
             ],
             [
              0.4444444444444444,
              "#bd3786"
             ],
             [
              0.5555555555555556,
              "#d8576b"
             ],
             [
              0.6666666666666666,
              "#ed7953"
             ],
             [
              0.7777777777777778,
              "#fb9f3a"
             ],
             [
              0.8888888888888888,
              "#fdca26"
             ],
             [
              1,
              "#f0f921"
             ]
            ],
            "type": "heatmapgl"
           }
          ],
          "histogram": [
           {
            "marker": {
             "pattern": {
              "fillmode": "overlay",
              "size": 10,
              "solidity": 0.2
             }
            },
            "type": "histogram"
           }
          ],
          "histogram2d": [
           {
            "colorbar": {
             "outlinewidth": 0,
             "ticks": ""
            },
            "colorscale": [
             [
              0,
              "#0d0887"
             ],
             [
              0.1111111111111111,
              "#46039f"
             ],
             [
              0.2222222222222222,
              "#7201a8"
             ],
             [
              0.3333333333333333,
              "#9c179e"
             ],
             [
              0.4444444444444444,
              "#bd3786"
             ],
             [
              0.5555555555555556,
              "#d8576b"
             ],
             [
              0.6666666666666666,
              "#ed7953"
             ],
             [
              0.7777777777777778,
              "#fb9f3a"
             ],
             [
              0.8888888888888888,
              "#fdca26"
             ],
             [
              1,
              "#f0f921"
             ]
            ],
            "type": "histogram2d"
           }
          ],
          "histogram2dcontour": [
           {
            "colorbar": {
             "outlinewidth": 0,
             "ticks": ""
            },
            "colorscale": [
             [
              0,
              "#0d0887"
             ],
             [
              0.1111111111111111,
              "#46039f"
             ],
             [
              0.2222222222222222,
              "#7201a8"
             ],
             [
              0.3333333333333333,
              "#9c179e"
             ],
             [
              0.4444444444444444,
              "#bd3786"
             ],
             [
              0.5555555555555556,
              "#d8576b"
             ],
             [
              0.6666666666666666,
              "#ed7953"
             ],
             [
              0.7777777777777778,
              "#fb9f3a"
             ],
             [
              0.8888888888888888,
              "#fdca26"
             ],
             [
              1,
              "#f0f921"
             ]
            ],
            "type": "histogram2dcontour"
           }
          ],
          "mesh3d": [
           {
            "colorbar": {
             "outlinewidth": 0,
             "ticks": ""
            },
            "type": "mesh3d"
           }
          ],
          "parcoords": [
           {
            "line": {
             "colorbar": {
              "outlinewidth": 0,
              "ticks": ""
             }
            },
            "type": "parcoords"
           }
          ],
          "pie": [
           {
            "automargin": true,
            "type": "pie"
           }
          ],
          "scatter": [
           {
            "fillpattern": {
             "fillmode": "overlay",
             "size": 10,
             "solidity": 0.2
            },
            "type": "scatter"
           }
          ],
          "scatter3d": [
           {
            "line": {
             "colorbar": {
              "outlinewidth": 0,
              "ticks": ""
             }
            },
            "marker": {
             "colorbar": {
              "outlinewidth": 0,
              "ticks": ""
             }
            },
            "type": "scatter3d"
           }
          ],
          "scattercarpet": [
           {
            "marker": {
             "colorbar": {
              "outlinewidth": 0,
              "ticks": ""
             }
            },
            "type": "scattercarpet"
           }
          ],
          "scattergeo": [
           {
            "marker": {
             "colorbar": {
              "outlinewidth": 0,
              "ticks": ""
             }
            },
            "type": "scattergeo"
           }
          ],
          "scattergl": [
           {
            "marker": {
             "colorbar": {
              "outlinewidth": 0,
              "ticks": ""
             }
            },
            "type": "scattergl"
           }
          ],
          "scattermapbox": [
           {
            "marker": {
             "colorbar": {
              "outlinewidth": 0,
              "ticks": ""
             }
            },
            "type": "scattermapbox"
           }
          ],
          "scatterpolar": [
           {
            "marker": {
             "colorbar": {
              "outlinewidth": 0,
              "ticks": ""
             }
            },
            "type": "scatterpolar"
           }
          ],
          "scatterpolargl": [
           {
            "marker": {
             "colorbar": {
              "outlinewidth": 0,
              "ticks": ""
             }
            },
            "type": "scatterpolargl"
           }
          ],
          "scatterternary": [
           {
            "marker": {
             "colorbar": {
              "outlinewidth": 0,
              "ticks": ""
             }
            },
            "type": "scatterternary"
           }
          ],
          "surface": [
           {
            "colorbar": {
             "outlinewidth": 0,
             "ticks": ""
            },
            "colorscale": [
             [
              0,
              "#0d0887"
             ],
             [
              0.1111111111111111,
              "#46039f"
             ],
             [
              0.2222222222222222,
              "#7201a8"
             ],
             [
              0.3333333333333333,
              "#9c179e"
             ],
             [
              0.4444444444444444,
              "#bd3786"
             ],
             [
              0.5555555555555556,
              "#d8576b"
             ],
             [
              0.6666666666666666,
              "#ed7953"
             ],
             [
              0.7777777777777778,
              "#fb9f3a"
             ],
             [
              0.8888888888888888,
              "#fdca26"
             ],
             [
              1,
              "#f0f921"
             ]
            ],
            "type": "surface"
           }
          ],
          "table": [
           {
            "cells": {
             "fill": {
              "color": "#EBF0F8"
             },
             "line": {
              "color": "white"
             }
            },
            "header": {
             "fill": {
              "color": "#C8D4E3"
             },
             "line": {
              "color": "white"
             }
            },
            "type": "table"
           }
          ]
         },
         "layout": {
          "annotationdefaults": {
           "arrowcolor": "#2a3f5f",
           "arrowhead": 0,
           "arrowwidth": 1
          },
          "autotypenumbers": "strict",
          "coloraxis": {
           "colorbar": {
            "outlinewidth": 0,
            "ticks": ""
           }
          },
          "colorscale": {
           "diverging": [
            [
             0,
             "#8e0152"
            ],
            [
             0.1,
             "#c51b7d"
            ],
            [
             0.2,
             "#de77ae"
            ],
            [
             0.3,
             "#f1b6da"
            ],
            [
             0.4,
             "#fde0ef"
            ],
            [
             0.5,
             "#f7f7f7"
            ],
            [
             0.6,
             "#e6f5d0"
            ],
            [
             0.7,
             "#b8e186"
            ],
            [
             0.8,
             "#7fbc41"
            ],
            [
             0.9,
             "#4d9221"
            ],
            [
             1,
             "#276419"
            ]
           ],
           "sequential": [
            [
             0,
             "#0d0887"
            ],
            [
             0.1111111111111111,
             "#46039f"
            ],
            [
             0.2222222222222222,
             "#7201a8"
            ],
            [
             0.3333333333333333,
             "#9c179e"
            ],
            [
             0.4444444444444444,
             "#bd3786"
            ],
            [
             0.5555555555555556,
             "#d8576b"
            ],
            [
             0.6666666666666666,
             "#ed7953"
            ],
            [
             0.7777777777777778,
             "#fb9f3a"
            ],
            [
             0.8888888888888888,
             "#fdca26"
            ],
            [
             1,
             "#f0f921"
            ]
           ],
           "sequentialminus": [
            [
             0,
             "#0d0887"
            ],
            [
             0.1111111111111111,
             "#46039f"
            ],
            [
             0.2222222222222222,
             "#7201a8"
            ],
            [
             0.3333333333333333,
             "#9c179e"
            ],
            [
             0.4444444444444444,
             "#bd3786"
            ],
            [
             0.5555555555555556,
             "#d8576b"
            ],
            [
             0.6666666666666666,
             "#ed7953"
            ],
            [
             0.7777777777777778,
             "#fb9f3a"
            ],
            [
             0.8888888888888888,
             "#fdca26"
            ],
            [
             1,
             "#f0f921"
            ]
           ]
          },
          "colorway": [
           "#636efa",
           "#EF553B",
           "#00cc96",
           "#ab63fa",
           "#FFA15A",
           "#19d3f3",
           "#FF6692",
           "#B6E880",
           "#FF97FF",
           "#FECB52"
          ],
          "font": {
           "color": "#2a3f5f"
          },
          "geo": {
           "bgcolor": "white",
           "lakecolor": "white",
           "landcolor": "#E5ECF6",
           "showlakes": true,
           "showland": true,
           "subunitcolor": "white"
          },
          "hoverlabel": {
           "align": "left"
          },
          "hovermode": "closest",
          "mapbox": {
           "style": "light"
          },
          "paper_bgcolor": "white",
          "plot_bgcolor": "#E5ECF6",
          "polar": {
           "angularaxis": {
            "gridcolor": "white",
            "linecolor": "white",
            "ticks": ""
           },
           "bgcolor": "#E5ECF6",
           "radialaxis": {
            "gridcolor": "white",
            "linecolor": "white",
            "ticks": ""
           }
          },
          "scene": {
           "xaxis": {
            "backgroundcolor": "#E5ECF6",
            "gridcolor": "white",
            "gridwidth": 2,
            "linecolor": "white",
            "showbackground": true,
            "ticks": "",
            "zerolinecolor": "white"
           },
           "yaxis": {
            "backgroundcolor": "#E5ECF6",
            "gridcolor": "white",
            "gridwidth": 2,
            "linecolor": "white",
            "showbackground": true,
            "ticks": "",
            "zerolinecolor": "white"
           },
           "zaxis": {
            "backgroundcolor": "#E5ECF6",
            "gridcolor": "white",
            "gridwidth": 2,
            "linecolor": "white",
            "showbackground": true,
            "ticks": "",
            "zerolinecolor": "white"
           }
          },
          "shapedefaults": {
           "line": {
            "color": "#2a3f5f"
           }
          },
          "ternary": {
           "aaxis": {
            "gridcolor": "white",
            "linecolor": "white",
            "ticks": ""
           },
           "baxis": {
            "gridcolor": "white",
            "linecolor": "white",
            "ticks": ""
           },
           "bgcolor": "#E5ECF6",
           "caxis": {
            "gridcolor": "white",
            "linecolor": "white",
            "ticks": ""
           }
          },
          "title": {
           "x": 0.05
          },
          "xaxis": {
           "automargin": true,
           "gridcolor": "white",
           "linecolor": "white",
           "ticks": "",
           "title": {
            "standoff": 15
           },
           "zerolinecolor": "white",
           "zerolinewidth": 2
          },
          "yaxis": {
           "automargin": true,
           "gridcolor": "white",
           "linecolor": "white",
           "ticks": "",
           "title": {
            "standoff": 15
           },
           "zerolinecolor": "white",
           "zerolinewidth": 2
          }
         }
        },
        "width": 500
       }
      },
      "image/png": "[encoded data removed]",
      "text/html": [
       "<div>                            <div id=\"014b8d87-3b60-4de1-8996-493048e86ff8\" class=\"plotly-graph-div\" style=\"height:500px; width:500px;\"></div>            <script type=\"text/javascript\">                require([\"plotly\"], function(Plotly) {                    window.PLOTLYENV=window.PLOTLYENV || {};                                    if (document.getElementById(\"014b8d87-3b60-4de1-8996-493048e86ff8\")) {                    Plotly.newPlot(                        \"014b8d87-3b60-4de1-8996-493048e86ff8\",                        [{\"hoverinfo\":\"text\",\"hovertext\":[\"P 908 DT\",\"OP1 908 DT\",\"OP2 908 DT\",\"O5' 908 DT\",\"C5' 908 DT\",\"C4' 908 DT\",\"O4' 908 DT\",\"C3' 908 DT\",\"O3' 908 DT\",\"C2' 908 DT\",\"C1' 908 DT\",\"N1 908 DT\",\"C2 908 DT\",\"N3 908 DT\",\"C4 908 DT\",\"C5 908 DT\",\"C6 908 DT\",\"O2 908 DT\",\"O4 908 DT\",\"C7 908 DT\"],\"marker\":{\"color\":[\"#DC8BE0\",\"#DE371D\",\"#DE371D\",\"#DE371D\",\"#1D90DE\",\"#1D90DE\",\"#DE371D\",\"#1D90DE\",\"#DE371D\",\"#1D90DE\",\"#1D90DE\",\"#1DDE81\",\"#1D90DE\",\"#1DDE81\",\"#1D90DE\",\"#1D90DE\",\"#1D90DE\",\"#DE371D\",\"#DE371D\",\"#1D90DE\"],\"opacity\":1.0,\"size\":[61.86598969503085,30.301709238382458,30.301709238382458,30.301709238382458,42.29613581190885,42.29613581190885,30.301709238382458,42.29613581190885,30.301709238382458,42.29613581190885,42.29613581190885,35.3519941114462,42.29613581190885,35.3519941114462,42.29613581190885,42.29613581190885,42.29613581190885,30.301709238382458,30.301709238382458,42.29613581190885]},\"mode\":\"markers\",\"x\":[102.13700103759766,101.60299682617188,101.27300262451172,103.51899719238281,104.43800354003906,104.97429656982422,105.8419189453125,103.97711944580078,104.35127258300781,104.12910461425781,105.62677001953125,104.9800033569336,105.25869750976562,104.56595611572266,103.69097137451172,103.42317199707031,104.05231475830078,106.0941162109375,103.23675537109375,102.44769287109375],\"y\":[65.75599670410156,67.08399963378906,64.84300231933594,66.00499725341797,66.98600006103516,67.81608581542969,66.99761199951172,68.48944091796875,69.81849670410156,67.66386413574219,67.34831237792969,66.18299865722656,65.86397552490234,64.80577087402344,63.9843635559082,64.38185119628906,65.45643615722656,66.46102142333984,62.99034118652344,63.57633590698242],\"z\":[33.20899963378906,33.60300064086914,32.4119987487793,32.45100021362305,32.92300033569336,31.74851417541504,30.95193862915039,30.78504180908203,30.465219497680664,29.51990509033203,29.590545654296875,28.944000244140625,27.606224060058594,27.058521270751953,27.737085342407227,29.117511749267578,29.665607452392578,26.922494888305664,27.170793533325195,29.958049774169922],\"type\":\"scatter3d\"}],                        {\"height\":500,\"width\":500,\"template\":{\"data\":{\"histogram2dcontour\":[{\"type\":\"histogram2dcontour\",\"colorbar\":{\"outlinewidth\":0,\"ticks\":\"\"},\"colorscale\":[[0.0,\"#0d0887\"],[0.1111111111111111,\"#46039f\"],[0.2222222222222222,\"#7201a8\"],[0.3333333333333333,\"#9c179e\"],[0.4444444444444444,\"#bd3786\"],[0.5555555555555556,\"#d8576b\"],[0.6666666666666666,\"#ed7953\"],[0.7777777777777778,\"#fb9f3a\"],[0.8888888888888888,\"#fdca26\"],[1.0,\"#f0f921\"]]}],\"choropleth\":[{\"type\":\"choropleth\",\"colorbar\":{\"outlinewidth\":0,\"ticks\":\"\"}}],\"histogram2d\":[{\"type\":\"histogram2d\",\"colorbar\":{\"outlinewidth\":0,\"ticks\":\"\"},\"colorscale\":[[0.0,\"#0d0887\"],[0.1111111111111111,\"#46039f\"],[0.2222222222222222,\"#7201a8\"],[0.3333333333333333,\"#9c179e\"],[0.4444444444444444,\"#bd3786\"],[0.5555555555555556,\"#d8576b\"],[0.6666666666666666,\"#ed7953\"],[0.7777777777777778,\"#fb9f3a\"],[0.8888888888888888,\"#fdca26\"],[1.0,\"#f0f921\"]]}],\"heatmap\":[{\"type\":\"heatmap\",\"colorbar\":{\"outlinewidth\":0,\"ticks\":\"\"},\"colorscale\":[[0.0,\"#0d0887\"],[0.1111111111111111,\"#46039f\"],[0.2222222222222222,\"#7201a8\"],[0.3333333333333333,\"#9c179e\"],[0.4444444444444444,\"#bd3786\"],[0.5555555555555556,\"#d8576b\"],[0.6666666666666666,\"#ed7953\"],[0.7777777777777778,\"#fb9f3a\"],[0.8888888888888888,\"#fdca26\"],[1.0,\"#f0f921\"]]}],\"heatmapgl\":[{\"type\":\"heatmapgl\",\"colorbar\":{\"outlinewidth\":0,\"ticks\":\"\"},\"colorscale\":[[0.0,\"#0d0887\"],[0.1111111111111111,\"#46039f\"],[0.2222222222222222,\"#7201a8\"],[0.3333333333333333,\"#9c179e\"],[0.4444444444444444,\"#bd3786\"],[0.5555555555555556,\"#d8576b\"],[0.6666666666666666,\"#ed7953\"],[0.7777777777777778,\"#fb9f3a\"],[0.8888888888888888,\"#fdca26\"],[1.0,\"#f0f921\"]]}],\"contourcarpet\":[{\"type\":\"contourcarpet\",\"colorbar\":{\"outlinewidth\":0,\"ticks\":\"\"}}],\"contour\":[{\"type\":\"contour\",\"colorbar\":{\"outlinewidth\":0,\"ticks\":\"\"},\"colorscale\":[[0.0,\"#0d0887\"],[0.1111111111111111,\"#46039f\"],[0.2222222222222222,\"#7201a8\"],[0.3333333333333333,\"#9c179e\"],[0.4444444444444444,\"#bd3786\"],[0.5555555555555556,\"#d8576b\"],[0.6666666666666666,\"#ed7953\"],[0.7777777777777778,\"#fb9f3a\"],[0.8888888888888888,\"#fdca26\"],[1.0,\"#f0f921\"]]}],\"surface\":[{\"type\":\"surface\",\"colorbar\":{\"outlinewidth\":0,\"ticks\":\"\"},\"colorscale\":[[0.0,\"#0d0887\"],[0.1111111111111111,\"#46039f\"],[0.2222222222222222,\"#7201a8\"],[0.3333333333333333,\"#9c179e\"],[0.4444444444444444,\"#bd3786\"],[0.5555555555555556,\"#d8576b\"],[0.6666666666666666,\"#ed7953\"],[0.7777777777777778,\"#fb9f3a\"],[0.8888888888888888,\"#fdca26\"],[1.0,\"#f0f921\"]]}],\"mesh3d\":[{\"type\":\"mesh3d\",\"colorbar\":{\"outlinewidth\":0,\"ticks\":\"\"}}],\"scatter\":[{\"fillpattern\":{\"fillmode\":\"overlay\",\"size\":10,\"solidity\":0.2},\"type\":\"scatter\"}],\"parcoords\":[{\"type\":\"parcoords\",\"line\":{\"colorbar\":{\"outlinewidth\":0,\"ticks\":\"\"}}}],\"scatterpolargl\":[{\"type\":\"scatterpolargl\",\"marker\":{\"colorbar\":{\"outlinewidth\":0,\"ticks\":\"\"}}}],\"bar\":[{\"error_x\":{\"color\":\"#2a3f5f\"},\"error_y\":{\"color\":\"#2a3f5f\"},\"marker\":{\"line\":{\"color\":\"#E5ECF6\",\"width\":0.5},\"pattern\":{\"fillmode\":\"overlay\",\"size\":10,\"solidity\":0.2}},\"type\":\"bar\"}],\"scattergeo\":[{\"type\":\"scattergeo\",\"marker\":{\"colorbar\":{\"outlinewidth\":0,\"ticks\":\"\"}}}],\"scatterpolar\":[{\"type\":\"scatterpolar\",\"marker\":{\"colorbar\":{\"outlinewidth\":0,\"ticks\":\"\"}}}],\"histogram\":[{\"marker\":{\"pattern\":{\"fillmode\":\"overlay\",\"size\":10,\"solidity\":0.2}},\"type\":\"histogram\"}],\"scattergl\":[{\"type\":\"scattergl\",\"marker\":{\"colorbar\":{\"outlinewidth\":0,\"ticks\":\"\"}}}],\"scatter3d\":[{\"type\":\"scatter3d\",\"line\":{\"colorbar\":{\"outlinewidth\":0,\"ticks\":\"\"}},\"marker\":{\"colorbar\":{\"outlinewidth\":0,\"ticks\":\"\"}}}],\"scattermapbox\":[{\"type\":\"scattermapbox\",\"marker\":{\"colorbar\":{\"outlinewidth\":0,\"ticks\":\"\"}}}],\"scatterternary\":[{\"type\":\"scatterternary\",\"marker\":{\"colorbar\":{\"outlinewidth\":0,\"ticks\":\"\"}}}],\"scattercarpet\":[{\"type\":\"scattercarpet\",\"marker\":{\"colorbar\":{\"outlinewidth\":0,\"ticks\":\"\"}}}],\"carpet\":[{\"aaxis\":{\"endlinecolor\":\"#2a3f5f\",\"gridcolor\":\"white\",\"linecolor\":\"white\",\"minorgridcolor\":\"white\",\"startlinecolor\":\"#2a3f5f\"},\"baxis\":{\"endlinecolor\":\"#2a3f5f\",\"gridcolor\":\"white\",\"linecolor\":\"white\",\"minorgridcolor\":\"white\",\"startlinecolor\":\"#2a3f5f\"},\"type\":\"carpet\"}],\"table\":[{\"cells\":{\"fill\":{\"color\":\"#EBF0F8\"},\"line\":{\"color\":\"white\"}},\"header\":{\"fill\":{\"color\":\"#C8D4E3\"},\"line\":{\"color\":\"white\"}},\"type\":\"table\"}],\"barpolar\":[{\"marker\":{\"line\":{\"color\":\"#E5ECF6\",\"width\":0.5},\"pattern\":{\"fillmode\":\"overlay\",\"size\":10,\"solidity\":0.2}},\"type\":\"barpolar\"}],\"pie\":[{\"automargin\":true,\"type\":\"pie\"}]},\"layout\":{\"autotypenumbers\":\"strict\",\"colorway\":[\"#636efa\",\"#EF553B\",\"#00cc96\",\"#ab63fa\",\"#FFA15A\",\"#19d3f3\",\"#FF6692\",\"#B6E880\",\"#FF97FF\",\"#FECB52\"],\"font\":{\"color\":\"#2a3f5f\"},\"hovermode\":\"closest\",\"hoverlabel\":{\"align\":\"left\"},\"paper_bgcolor\":\"white\",\"plot_bgcolor\":\"#E5ECF6\",\"polar\":{\"bgcolor\":\"#E5ECF6\",\"angularaxis\":{\"gridcolor\":\"white\",\"linecolor\":\"white\",\"ticks\":\"\"},\"radialaxis\":{\"gridcolor\":\"white\",\"linecolor\":\"white\",\"ticks\":\"\"}},\"ternary\":{\"bgcolor\":\"#E5ECF6\",\"aaxis\":{\"gridcolor\":\"white\",\"linecolor\":\"white\",\"ticks\":\"\"},\"baxis\":{\"gridcolor\":\"white\",\"linecolor\":\"white\",\"ticks\":\"\"},\"caxis\":{\"gridcolor\":\"white\",\"linecolor\":\"white\",\"ticks\":\"\"}},\"coloraxis\":{\"colorbar\":{\"outlinewidth\":0,\"ticks\":\"\"}},\"colorscale\":{\"sequential\":[[0.0,\"#0d0887\"],[0.1111111111111111,\"#46039f\"],[0.2222222222222222,\"#7201a8\"],[0.3333333333333333,\"#9c179e\"],[0.4444444444444444,\"#bd3786\"],[0.5555555555555556,\"#d8576b\"],[0.6666666666666666,\"#ed7953\"],[0.7777777777777778,\"#fb9f3a\"],[0.8888888888888888,\"#fdca26\"],[1.0,\"#f0f921\"]],\"sequentialminus\":[[0.0,\"#0d0887\"],[0.1111111111111111,\"#46039f\"],[0.2222222222222222,\"#7201a8\"],[0.3333333333333333,\"#9c179e\"],[0.4444444444444444,\"#bd3786\"],[0.5555555555555556,\"#d8576b\"],[0.6666666666666666,\"#ed7953\"],[0.7777777777777778,\"#fb9f3a\"],[0.8888888888888888,\"#fdca26\"],[1.0,\"#f0f921\"]],\"diverging\":[[0,\"#8e0152\"],[0.1,\"#c51b7d\"],[0.2,\"#de77ae\"],[0.3,\"#f1b6da\"],[0.4,\"#fde0ef\"],[0.5,\"#f7f7f7\"],[0.6,\"#e6f5d0\"],[0.7,\"#b8e186\"],[0.8,\"#7fbc41\"],[0.9,\"#4d9221\"],[1,\"#276419\"]]},\"xaxis\":{\"gridcolor\":\"white\",\"linecolor\":\"white\",\"ticks\":\"\",\"title\":{\"standoff\":15},\"zerolinecolor\":\"white\",\"automargin\":true,\"zerolinewidth\":2},\"yaxis\":{\"gridcolor\":\"white\",\"linecolor\":\"white\",\"ticks\":\"\",\"title\":{\"standoff\":15},\"zerolinecolor\":\"white\",\"automargin\":true,\"zerolinewidth\":2},\"scene\":{\"xaxis\":{\"backgroundcolor\":\"#E5ECF6\",\"gridcolor\":\"white\",\"linecolor\":\"white\",\"showbackground\":true,\"ticks\":\"\",\"zerolinecolor\":\"white\",\"gridwidth\":2},\"yaxis\":{\"backgroundcolor\":\"#E5ECF6\",\"gridcolor\":\"white\",\"linecolor\":\"white\",\"showbackground\":true,\"ticks\":\"\",\"zerolinecolor\":\"white\",\"gridwidth\":2},\"zaxis\":{\"backgroundcolor\":\"#E5ECF6\",\"gridcolor\":\"white\",\"linecolor\":\"white\",\"showbackground\":true,\"ticks\":\"\",\"zerolinecolor\":\"white\",\"gridwidth\":2}},\"shapedefaults\":{\"line\":{\"color\":\"#2a3f5f\"}},\"annotationdefaults\":{\"arrowcolor\":\"#2a3f5f\",\"arrowhead\":0,\"arrowwidth\":1},\"geo\":{\"bgcolor\":\"white\",\"landcolor\":\"#E5ECF6\",\"subunitcolor\":\"white\",\"showland\":true,\"showlakes\":true,\"lakecolor\":\"white\"},\"title\":{\"x\":0.05},\"mapbox\":{\"style\":\"light\"}}},\"scene\":{\"dragmode\":\"orbit\",\"xaxis\":{\"visible\":false},\"yaxis\":{\"visible\":false},\"zaxis\":{\"visible\":false}}},                        {\"responsive\": true}                    ).then(function(){\n",
       "                            \n",
       "var gd = document.getElementById('014b8d87-3b60-4de1-8996-493048e86ff8');\n",
       "var x = new MutationObserver(function (mutations, observer) {{\n",
       "        var display = window.getComputedStyle(gd).display;\n",
       "        if (!display || display === 'none') {{\n",
       "            console.log([gd, 'removed!']);\n",
       "            Plotly.purge(gd);\n",
       "            observer.disconnect();\n",
       "        }}\n",
       "}});\n",
       "\n",
       "// Listen for the removal of the full notebook cells\n",
       "var notebookContainer = gd.closest('#notebook-container');\n",
       "if (notebookContainer) {{\n",
       "    x.observe(notebookContainer, {childList: true});\n",
       "}}\n",
       "\n",
       "// Listen for the clearing of the current output cell\n",
       "var outputEl = gd.closest('.output');\n",
       "if (outputEl) {{\n",
       "    x.observe(outputEl, {childList: true});\n",
       "}}\n",
       "\n",
       "                        })                };                });            </script>        </div>"
      ]
     },
     "metadata": {},
     "output_type": "display_data"
    }
   ],
   "source": [
    "print(chain[7].name)\n",
    "chain[7].draw(width=500, height=500)"
   ]
  },
  {
   "cell_type": "markdown",
   "id": "a1db6173-b56b-4b1f-83d1-bb8f0cd14cdd",
   "metadata": {},
   "source": [
    "### Parse secondary structure from pdb (currently in dev)"
   ]
  },
  {
   "cell_type": "markdown",
   "id": "4f596404-af43-423e-829a-82647965bc73",
   "metadata": {},
   "source": [
    "Naskit parses pdb chain into Nucleic Acid object"
   ]
  },
  {
   "cell_type": "code",
   "execution_count": 4,
   "id": "d21a4867-09ce-42bc-aada-268294b51d78",
   "metadata": {},
   "outputs": [],
   "source": [
    "chain = pdb.na_chains[0]\n",
    "na = chain.to_na()"
   ]
  },
  {
   "cell_type": "code",
   "execution_count": 5,
   "id": "c81580c6-7423-4ae2-886c-7bbb457957f9",
   "metadata": {},
   "outputs": [
    {
     "data": {
      "text/plain": [
       "GGGCGGCUAGCUCAGCGGAAGAGCGCUCGCCUCACACGCGAGAGGUCGUAGGUUCAAGUCCUACGCCGCCCACCA\n",
       "((((((((.[[[[)(.{<..]]]]((((((.......))))))...)((((((}>.)..))))))))))))...."
      ]
     },
     "execution_count": 5,
     "metadata": {},
     "output_type": "execute_result"
    }
   ],
   "source": [
    "na"
   ]
  },
  {
   "cell_type": "markdown",
   "id": "9dc64fa9-c3fe-458c-8b5a-f57ed1a77f3c",
   "metadata": {},
   "source": [
    "If pdb does not contain hydrogens, naskit can very roughly approximate them"
   ]
  },
  {
   "cell_type": "code",
   "execution_count": 6,
   "id": "0ed26043-9063-477e-9099-739eba4907c2",
   "metadata": {},
   "outputs": [],
   "source": [
    "na = chain.to_na(approximate_hs=True)"
   ]
  },
  {
   "cell_type": "markdown",
   "id": "ac342199-2d75-46b3-916f-00c8cd69771e",
   "metadata": {},
   "source": [
    "You can analyse parsed hydrogen bonds between particular nucleotides"
   ]
  },
  {
   "cell_type": "code",
   "execution_count": 19,
   "id": "59a97f5d-1e22-454a-8680-c31f1d5d9523",
   "metadata": {},
   "outputs": [
    {
     "name": "stdout",
     "output_type": "stream",
     "text": [
      "(0, 70)\n",
      "8.6556 - distance between the two origins\n",
      "9.5156 - direction distance\n",
      "24.9600 - angle between base normal vectors\n",
      "Use vertical plane separation distance filter (norm angle < 25)\n",
      "1.8206 - vertical plane separation distance\n",
      "Can form pair: True\n"
     ]
    }
   ],
   "source": [
    "pair = na.pairs[0]\n",
    "print(pair)\n",
    "nt1, nt2 = chain[pair]\n",
    "\n",
    "print(f\"Can form pair: {chain.can_form_pair(nt1, nt2, verbose=True)}\")"
   ]
  },
  {
   "cell_type": "code",
   "execution_count": 22,
   "id": "ba4aa1a7-44ef-4a29-bdfc-9a4cfa48e241",
   "metadata": {},
   "outputs": [
    {
     "name": "stdout",
     "output_type": "stream",
     "text": [
      "G C\n",
      "Bond energy: -1.0110969356578732\n"
     ]
    },
    {
     "data": {
      "text/plain": [
       "[HBond(dres_name='G0', ares_name='C70', datom_name='H1', aatom_name='N3', dist=2.5899553, approximated=False, bond_e=-0.178590769123814, LJ_e=-2.905652332709572e-07, C_e=-0.17859047855858073),\n",
       " HBond(dres_name='G0', ares_name='C70', datom_name='H21', aatom_name='O2', dist=2.90475, approximated=False, bond_e=-0.16730684384248537, LJ_e=-1.0692174298354186e-07, C_e=-0.16730673692074238),\n",
       " HBond(dres_name='C70', ares_name='G0', datom_name='H42', aatom_name='O6', dist=2.6567955, approximated=False, bond_e=-0.15887919360964822, LJ_e=-1.8262906333472995e-07, C_e=-0.15887901098058488),\n",
       " HBond(dres_name='G0', ares_name='C70', datom_name='H1', aatom_name='O2', dist=2.4239883, approximated=False, bond_e=-0.1573046522639427, LJ_e=-3.16617877907578e-07, C_e=-0.15730433564606477),\n",
       " HBond(dres_name='G0', ares_name='C70', datom_name='H21', aatom_name='N3', dist=4.2555914, approximated=False, bond_e=-0.13852931448192654, LJ_e=-1.4765151199205639e-08, C_e=-0.13852929971677533),\n",
       " HBond(dres_name='G0', ares_name='C70', datom_name='H22', aatom_name='O2', dist=4.331278, approximated=False, bond_e=-0.11220344700318821, LJ_e=-9.727975504109486e-09, C_e=-0.1122034372752127),\n",
       " HBond(dres_name='C70', ares_name='G0', datom_name='H41', aatom_name='O6', dist=4.2948456, approximated=False, bond_e=-0.09828271533286834, LJ_e=-1.0233717203366751e-08, C_e=-0.09828270509915113)]"
      ]
     },
     "execution_count": 22,
     "metadata": {},
     "output_type": "execute_result"
    }
   ],
   "source": [
    "print(nt1.mname, nt2.mname)\n",
    "h_bonds = chain.calculate_h_bonds(nt1, nt2)\n",
    "bond_energy = sum([b.bond_e for b in h_bonds])\n",
    "print(f\"Bond energy: {bond_energy}\")\n",
    "h_bonds"
   ]
  }
 ],
 "metadata": {
  "kernelspec": {
   "display_name": "dl",
   "language": "python",
   "name": "dl"
  },
  "language_info": {
   "codemirror_mode": {
    "name": "ipython",
    "version": 3
   },
   "file_extension": ".py",
   "mimetype": "text/x-python",
   "name": "python",
   "nbconvert_exporter": "python",
   "pygments_lexer": "ipython3",
   "version": "3.10.14"
  }
 },
 "nbformat": 4,
 "nbformat_minor": 5
}
